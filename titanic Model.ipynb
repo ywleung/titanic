{
 "cells": [
  {
   "cell_type": "code",
   "execution_count": 1,
   "metadata": {},
   "outputs": [],
   "source": [
    "import numpy as np\n",
    "import pandas as pd\n",
    "import matplotlib.pyplot as plt\n",
    "import seaborn as sns\n",
    "\n",
    "import warnings\n",
    "warnings.filterwarnings('ignore')\n",
    "\n",
    "from sklearn.ensemble import RandomForestClassifier, AdaBoostClassifier, GradientBoostingClassifier, ExtraTreesClassifier, VotingClassifier\n",
    "from sklearn.discriminant_analysis import LinearDiscriminantAnalysis\n",
    "from sklearn.linear_model import LogisticRegression\n",
    "from sklearn.neighbors import KNeighborsClassifier\n",
    "from sklearn.tree import DecisionTreeClassifier\n",
    "from sklearn.neural_network import MLPClassifier\n",
    "from sklearn.svm import SVC\n",
    "from sklearn.model_selection import GridSearchCV, cross_val_score, StratifiedKFold, learning_curve"
   ]
  },
  {
   "cell_type": "markdown",
   "metadata": {},
   "source": [
    "## Load Dataset"
   ]
  },
  {
   "cell_type": "code",
   "execution_count": 2,
   "metadata": {},
   "outputs": [],
   "source": [
    "# re-load in train set and test set\n",
    "train_df = pd.read_csv('datasets/train.csv')\n",
    "test_df = pd.read_csv('datasets/test.csv')\n",
    "\n",
    "id_train = train_df['PassengerId']\n",
    "train_df.drop(labels=['PassengerId'], axis=1, inplace=True)\n",
    "\n",
    "id_test = test_df['PassengerId']\n",
    "test_df.drop(labels=['PassengerId'], axis=1, inplace=True)"
   ]
  },
  {
   "cell_type": "markdown",
   "metadata": {},
   "source": [
    "## Data Preprocessing"
   ]
  },
  {
   "cell_type": "code",
   "execution_count": 3,
   "metadata": {},
   "outputs": [],
   "source": [
    "# age imputation\n",
    "def age_impute(train_df, test_df):\n",
    "#     for df in [train_df, test_df]:\n",
    "#         df['Has_age'] = df['Age'].apply(lambda x: 0 if x is np.nan else 1)\n",
    "#     age_med = train_df['Age'].median()\n",
    "#     for df in [train_df, test_df]:\n",
    "#         index_NaN = list(df['Age'][df['Age'].isnull()].index)\n",
    "#         for i in index_NaN:\n",
    "#             age_pred = train_df[\"Age\"][((train_df[\"Pclass\"] == train_df.iloc[i][\"Pclass\"]) &\n",
    "#                                         (train_df[\"Parch\"] == train_df.iloc[i][\"Parch\"]) &\n",
    "#                                         (train_df[\"SibSp\"] == train_df.iloc[i][\"SibSp\"]))].median()\n",
    "#             if np.isnan(age_pred):\n",
    "#                 df['Age'].iloc[i] = age_med\n",
    "#             else:\n",
    "#                 df['Age'].iloc[i] = age_pred\n",
    "    for df in [train_df, test_df]:\n",
    "        df['Has_age'] = df['Age'].apply(lambda x: 0 if x is np.nan else 1)\n",
    "        age_group = train_df.groupby(['Title', 'Pclass'])['Age']\n",
    "        df['Age'] = age_group.transform(lambda x: x.fillna(x.mean()))\n",
    "    \n",
    "    return train_df, test_df"
   ]
  },
  {
   "cell_type": "code",
   "execution_count": 4,
   "metadata": {},
   "outputs": [],
   "source": [
    "# cabin imputation\n",
    "def cabin_info(train_df, test_df):\n",
    "#     cabin_letter = {'A': 1, 'B': 2, 'C': 3, 'D':4, 'E': 5, 'F': 6, 'G': 7, \n",
    "#                     'T': 8, 'missing': 9}\n",
    "    for df in [train_df, test_df]:\n",
    "#         df['Has_Cabin'] = df['Cabin'].apply(lambda x: 0 if x is np.nan else 1)\n",
    "        \n",
    "        df['Cabin_num1'] = df['Cabin'].apply(lambda x: str(x).split(' ')[-1][1:])\n",
    "        df['Cabin_num1'].replace('an', np.nan, inplace = True)\n",
    "        df['Cabin_num1'] = df['Cabin_num1'].apply(lambda x: int(x) if not pd.isnull(x) and x != '' else np.nan)\n",
    "    \n",
    "    train_df['Cabin_num'], bins = pd.qcut(train_df['Cabin_num1'], 3, retbins=True)\n",
    "    test_df['Cabin_num'] = pd.cut(test_df['Cabin_num1'], bins=bins, include_lowest=True)\n",
    "    train_df = pd.concat((train_df, pd.get_dummies(train_df['Cabin_num'], prefix = 'Cabin_num')), axis = 1)\n",
    "    test_df = pd.concat((test_df, pd.get_dummies(test_df['Cabin_num'], prefix = 'Cabin_num')), axis = 1)\n",
    "\n",
    "    for df in [train_df, test_df]:\n",
    "#         df['Cabin_letter'] = df['Cabin'].apply(lambda x: 'missing' if x is np.nan \n",
    "#                                                    else str(x)[0])\n",
    "#         df['Cabin_letter'] = df['Cabin_letter'].map(cabin_letter)\n",
    "#         # convert cabin letter other than the dict into 0\n",
    "#         df['Cabin_letter'] = df['Cabin_letter'].fillna(0)\n",
    "#         df['Cabin_letter'] = df['Cabin_letter'].astype(int)\n",
    "        df['Cabin_letter'] = df['Cabin'].apply(lambda x: str(x)[0])\n",
    "\n",
    "    for df in [train_df, test_df]:\n",
    "        del df['Cabin']\n",
    "        del df['Cabin_num1']\n",
    "        del df['Cabin_num']\n",
    "\n",
    "    return train_df, test_df"
   ]
  },
  {
   "cell_type": "code",
   "execution_count": 5,
   "metadata": {},
   "outputs": [],
   "source": [
    "# family size\n",
    "def family_size(train_df, test_df):\n",
    "    for df in [train_df, test_df]:\n",
    "        df['Family_size'] = df['Parch'] + df['SibSp'] + 1\n",
    "        df['Family_size'] = np.where((df['SibSp']+df['Parch'])==0 , 'Single',\n",
    "                               np.where((df['SibSp']+df['Parch'])<=3,'Nuclear', 'Big'))\n",
    "        \n",
    "        del df['Parch']\n",
    "        del df['SibSp']\n",
    "\n",
    "    return train_df, test_df"
   ]
  },
  {
   "cell_type": "code",
   "execution_count": 6,
   "metadata": {},
   "outputs": [],
   "source": [
    "# name\n",
    "def passenger_name(train_df, test_df):\n",
    "#     title_dict = {\"Mr\": 0, \"Miss\": 1, \"Mrs\": 2, \"Master\": 3}\n",
    "    for df in [train_df, test_df]:\n",
    "        # name length\n",
    "        df['Name_length'] = df['Name'].apply(len)\n",
    "        # title\n",
    "        df['Title'] = df['Name'].str.split(', ', expand=True)[1]\n",
    "        df['Title'] = df['Title'].str.split('. ', expand=True)[0]\n",
    "#         df['Title'] = df['Title'].map(title_dict)\n",
    "#         # convert other title into 4\n",
    "#         df['Title'] = df['Title'].fillna(4)\n",
    "#         df['Title'] = df['Title'].astype(int)\n",
    "        \n",
    "        del df['Name']\n",
    "        \n",
    "    return train_df, test_df"
   ]
  },
  {
   "cell_type": "code",
   "execution_count": 7,
   "metadata": {},
   "outputs": [],
   "source": [
    "# ticket\n",
    "def ticket_info(train_df, test_df):\n",
    "    ticket_higher_chance = ['1', '2', '3', 'S', 'P', 'C', 'A']\n",
    "    ticket_lower_chance = ['W', '4', '7', '6', 'L', '5', '8']\n",
    "    for df in [train_df, test_df]:\n",
    "        df['Ticket_length'] = df['Ticket'].apply(len)\n",
    "        df['Ticket_letter'] = df['Ticket'].apply(lambda x: str(x)[0])\n",
    "        df['Ticket_letter'] = np.where((df['Ticket_letter']).isin(ticket_higher_chance), df['Ticket_letter'],\n",
    "                                   np.where((df['Ticket_letter']).isin(ticket_lower_chance), 'Low_ticket', \n",
    "                                            'Other_ticket'))\n",
    "        \n",
    "        del df['Ticket']\n",
    "    \n",
    "    return train_df, test_df"
   ]
  },
  {
   "cell_type": "code",
   "execution_count": 8,
   "metadata": {},
   "outputs": [],
   "source": [
    "# embarked\n",
    "def embark_impute(train_df, test_df):\n",
    "    embark_median = train_df['Embarked'].mode()[0]\n",
    "    for df in [train_df, test_df]:\n",
    "        df['Embarked'] = df['Embarked'].fillna(embark_median)\n",
    "        \n",
    "    return train_df, test_df"
   ]
  },
  {
   "cell_type": "code",
   "execution_count": 9,
   "metadata": {},
   "outputs": [],
   "source": [
    "# fare\n",
    "def fare_impute(train_df, test_df):\n",
    "    fare_median = train_df['Fare'].median()\n",
    "    for df in [train_df, test_df]:\n",
    "        df['Fare'] = df['Fare'].fillna(fare_median)\n",
    "#         # reduce skewness\n",
    "#         df['Fare'] = df['Fare'].map(lambda x: np.log(x) if x>0 else 0)\n",
    "    \n",
    "    return train_df, test_df"
   ]
  },
  {
   "cell_type": "code",
   "execution_count": 10,
   "metadata": {},
   "outputs": [],
   "source": [
    "# get dummy variables\n",
    "def dummies(train_df, test_df, columns):\n",
    "    for col in columns:\n",
    "        train_df[col] = train_df[col].apply(lambda x: str(x))\n",
    "        test_df[col] = test_df[col].apply(lambda x: str(x))\n",
    "        good_cols = [col+'_'+i for i in train_df[col].unique() if i in test_df[col].unique()]\n",
    "        train_df = pd.concat((train_df, pd.get_dummies(train_df[col], prefix = col)[good_cols]), axis = 1)\n",
    "        test_df = pd.concat((test_df, pd.get_dummies(test_df[col], prefix = col)[good_cols]), axis = 1)\n",
    "        del train_df[col]\n",
    "        del test_df[col]\n",
    "        \n",
    "    return train_df, test_df"
   ]
  },
  {
   "cell_type": "code",
   "execution_count": 11,
   "metadata": {},
   "outputs": [],
   "source": [
    "train_df, test_df = passenger_name(train_df, test_df)\n",
    "train_df, test_df = age_impute(train_df, test_df)\n",
    "train_df, test_df = cabin_info(train_df, test_df)\n",
    "train_df, test_df = family_size(train_df, test_df)\n",
    "train_df, test_df = ticket_info(train_df, test_df)\n",
    "train_df, test_df = embark_impute(train_df, test_df)\n",
    "train_df, test_df = fare_impute(train_df, test_df)\n",
    "dummies_list = ['Pclass', 'Sex', 'Embarked', 'Ticket_letter', \n",
    "                'Cabin_letter', 'Title', 'Family_size']\n",
    "train_df, test_df = dummies(train_df, test_df, dummies_list)"
   ]
  },
  {
   "cell_type": "code",
   "execution_count": 12,
   "metadata": {},
   "outputs": [
    {
     "data": {
      "text/html": [
       "<div>\n",
       "<style scoped>\n",
       "    .dataframe tbody tr th:only-of-type {\n",
       "        vertical-align: middle;\n",
       "    }\n",
       "\n",
       "    .dataframe tbody tr th {\n",
       "        vertical-align: top;\n",
       "    }\n",
       "\n",
       "    .dataframe thead th {\n",
       "        text-align: right;\n",
       "    }\n",
       "</style>\n",
       "<table border=\"1\" class=\"dataframe\">\n",
       "  <thead>\n",
       "    <tr style=\"text-align: right;\">\n",
       "      <th></th>\n",
       "      <th>Survived</th>\n",
       "      <th>Age</th>\n",
       "      <th>Fare</th>\n",
       "      <th>Name_length</th>\n",
       "      <th>Has_age</th>\n",
       "      <th>Cabin_num_(1.999, 28.667]</th>\n",
       "      <th>Cabin_num_(28.667, 65.667]</th>\n",
       "      <th>Cabin_num_(65.667, 148.0]</th>\n",
       "      <th>Ticket_length</th>\n",
       "      <th>Pclass_3</th>\n",
       "      <th>...</th>\n",
       "      <th>Title_Mrs</th>\n",
       "      <th>Title_Miss</th>\n",
       "      <th>Title_Master</th>\n",
       "      <th>Title_Rev</th>\n",
       "      <th>Title_Dr</th>\n",
       "      <th>Title_Ms</th>\n",
       "      <th>Title_Col</th>\n",
       "      <th>Family_size_Nuclear</th>\n",
       "      <th>Family_size_Single</th>\n",
       "      <th>Family_size_Big</th>\n",
       "    </tr>\n",
       "  </thead>\n",
       "  <tbody>\n",
       "    <tr>\n",
       "      <th>0</th>\n",
       "      <td>0</td>\n",
       "      <td>22.0</td>\n",
       "      <td>7.2500</td>\n",
       "      <td>23</td>\n",
       "      <td>1</td>\n",
       "      <td>0</td>\n",
       "      <td>0</td>\n",
       "      <td>0</td>\n",
       "      <td>9</td>\n",
       "      <td>1</td>\n",
       "      <td>...</td>\n",
       "      <td>0</td>\n",
       "      <td>0</td>\n",
       "      <td>0</td>\n",
       "      <td>0</td>\n",
       "      <td>0</td>\n",
       "      <td>0</td>\n",
       "      <td>0</td>\n",
       "      <td>1</td>\n",
       "      <td>0</td>\n",
       "      <td>0</td>\n",
       "    </tr>\n",
       "    <tr>\n",
       "      <th>1</th>\n",
       "      <td>1</td>\n",
       "      <td>38.0</td>\n",
       "      <td>71.2833</td>\n",
       "      <td>51</td>\n",
       "      <td>1</td>\n",
       "      <td>0</td>\n",
       "      <td>0</td>\n",
       "      <td>1</td>\n",
       "      <td>8</td>\n",
       "      <td>0</td>\n",
       "      <td>...</td>\n",
       "      <td>1</td>\n",
       "      <td>0</td>\n",
       "      <td>0</td>\n",
       "      <td>0</td>\n",
       "      <td>0</td>\n",
       "      <td>0</td>\n",
       "      <td>0</td>\n",
       "      <td>1</td>\n",
       "      <td>0</td>\n",
       "      <td>0</td>\n",
       "    </tr>\n",
       "    <tr>\n",
       "      <th>2</th>\n",
       "      <td>1</td>\n",
       "      <td>26.0</td>\n",
       "      <td>7.9250</td>\n",
       "      <td>22</td>\n",
       "      <td>1</td>\n",
       "      <td>0</td>\n",
       "      <td>0</td>\n",
       "      <td>0</td>\n",
       "      <td>16</td>\n",
       "      <td>1</td>\n",
       "      <td>...</td>\n",
       "      <td>0</td>\n",
       "      <td>1</td>\n",
       "      <td>0</td>\n",
       "      <td>0</td>\n",
       "      <td>0</td>\n",
       "      <td>0</td>\n",
       "      <td>0</td>\n",
       "      <td>0</td>\n",
       "      <td>1</td>\n",
       "      <td>0</td>\n",
       "    </tr>\n",
       "    <tr>\n",
       "      <th>3</th>\n",
       "      <td>1</td>\n",
       "      <td>35.0</td>\n",
       "      <td>53.1000</td>\n",
       "      <td>44</td>\n",
       "      <td>1</td>\n",
       "      <td>0</td>\n",
       "      <td>0</td>\n",
       "      <td>1</td>\n",
       "      <td>6</td>\n",
       "      <td>0</td>\n",
       "      <td>...</td>\n",
       "      <td>1</td>\n",
       "      <td>0</td>\n",
       "      <td>0</td>\n",
       "      <td>0</td>\n",
       "      <td>0</td>\n",
       "      <td>0</td>\n",
       "      <td>0</td>\n",
       "      <td>1</td>\n",
       "      <td>0</td>\n",
       "      <td>0</td>\n",
       "    </tr>\n",
       "    <tr>\n",
       "      <th>4</th>\n",
       "      <td>0</td>\n",
       "      <td>35.0</td>\n",
       "      <td>8.0500</td>\n",
       "      <td>24</td>\n",
       "      <td>1</td>\n",
       "      <td>0</td>\n",
       "      <td>0</td>\n",
       "      <td>0</td>\n",
       "      <td>6</td>\n",
       "      <td>1</td>\n",
       "      <td>...</td>\n",
       "      <td>0</td>\n",
       "      <td>0</td>\n",
       "      <td>0</td>\n",
       "      <td>0</td>\n",
       "      <td>0</td>\n",
       "      <td>0</td>\n",
       "      <td>0</td>\n",
       "      <td>0</td>\n",
       "      <td>1</td>\n",
       "      <td>0</td>\n",
       "    </tr>\n",
       "  </tbody>\n",
       "</table>\n",
       "<p>5 rows × 45 columns</p>\n",
       "</div>"
      ],
      "text/plain": [
       "   Survived   Age     Fare  Name_length  Has_age  Cabin_num_(1.999, 28.667]  \\\n",
       "0         0  22.0   7.2500           23        1                          0   \n",
       "1         1  38.0  71.2833           51        1                          0   \n",
       "2         1  26.0   7.9250           22        1                          0   \n",
       "3         1  35.0  53.1000           44        1                          0   \n",
       "4         0  35.0   8.0500           24        1                          0   \n",
       "\n",
       "   Cabin_num_(28.667, 65.667]  Cabin_num_(65.667, 148.0]  Ticket_length  \\\n",
       "0                           0                          0              9   \n",
       "1                           0                          1              8   \n",
       "2                           0                          0             16   \n",
       "3                           0                          1              6   \n",
       "4                           0                          0              6   \n",
       "\n",
       "   Pclass_3       ...         Title_Mrs  Title_Miss  Title_Master  Title_Rev  \\\n",
       "0         1       ...                 0           0             0          0   \n",
       "1         0       ...                 1           0             0          0   \n",
       "2         1       ...                 0           1             0          0   \n",
       "3         0       ...                 1           0             0          0   \n",
       "4         1       ...                 0           0             0          0   \n",
       "\n",
       "   Title_Dr  Title_Ms  Title_Col  Family_size_Nuclear  Family_size_Single  \\\n",
       "0         0         0          0                    1                   0   \n",
       "1         0         0          0                    1                   0   \n",
       "2         0         0          0                    0                   1   \n",
       "3         0         0          0                    1                   0   \n",
       "4         0         0          0                    0                   1   \n",
       "\n",
       "   Family_size_Big  \n",
       "0                0  \n",
       "1                0  \n",
       "2                0  \n",
       "3                0  \n",
       "4                0  \n",
       "\n",
       "[5 rows x 45 columns]"
      ]
     },
     "execution_count": 12,
     "metadata": {},
     "output_type": "execute_result"
    }
   ],
   "source": [
    "train_df.head()"
   ]
  },
  {
   "cell_type": "markdown",
   "metadata": {},
   "source": [
    "## Modeling"
   ]
  },
  {
   "cell_type": "code",
   "execution_count": 13,
   "metadata": {},
   "outputs": [],
   "source": [
    "y_train = train_df['Survived']\n",
    "X_train = train_df.drop(labels=['Survived'], axis=1)"
   ]
  },
  {
   "cell_type": "code",
   "execution_count": 14,
   "metadata": {},
   "outputs": [],
   "source": [
    "kfold = StratifiedKFold(n_splits = 10)"
   ]
  },
  {
   "cell_type": "code",
   "execution_count": 15,
   "metadata": {},
   "outputs": [
    {
     "data": {
      "image/png": "[encoded data removed]",
      "text/plain": [
       "<Figure size 432x288 with 1 Axes>"
      ]
     },
     "metadata": {},
     "output_type": "display_data"
    }
   ],
   "source": [
    "# Modeling step Test differents algorithms \n",
    "classifiers = []\n",
    "classifiers.append(SVC())\n",
    "classifiers.append(DecisionTreeClassifier())\n",
    "classifiers.append(AdaBoostClassifier(DecisionTreeClassifier(), learning_rate=0.1))\n",
    "classifiers.append(RandomForestClassifier())\n",
    "classifiers.append(ExtraTreesClassifier())\n",
    "classifiers.append(GradientBoostingClassifier())\n",
    "classifiers.append(MLPClassifier())\n",
    "classifiers.append(KNeighborsClassifier())\n",
    "classifiers.append(LogisticRegression())\n",
    "classifiers.append(LinearDiscriminantAnalysis())\n",
    "\n",
    "cv_results = []\n",
    "for classifier in classifiers :\n",
    "    cv_results.append(cross_val_score(classifier, X_train, y=y_train, scoring = \"accuracy\", cv=kfold))\n",
    "\n",
    "cv_means = []\n",
    "cv_std = []\n",
    "for cv_result in cv_results:\n",
    "    cv_means.append(cv_result.mean())\n",
    "    cv_std.append(cv_result.std())\n",
    "\n",
    "cv_res = pd.DataFrame({\"CrossValMeans\": cv_means,\"CrossValerrors\": cv_std,\n",
    "                       \"Algorithm\": [\"SVC\",\"DecisionTree\",\"AdaBoost\",\n",
    "                       \"RandomForest\", \"ExtraTrees\", \"GradientBoosting\",\n",
    "                       \"MultipleLayerPerceptron\", \"KNeighboors\",\n",
    "                       \"LogisticRegression\", \"LinearDiscriminantAnalysis\"]})\n",
    "\n",
    "g = sns.barplot(\"CrossValMeans\", \"Algorithm\", data=cv_res, palette=\"Set3\",\n",
    "                orient=\"h\", **{'xerr': cv_std})\n",
    "g.set_xlabel(\"Mean Accuracy\")\n",
    "g = g.set_title(\"Cross validation scores\")"
   ]
  },
  {
   "cell_type": "code",
   "execution_count": 16,
   "metadata": {},
   "outputs": [
    {
     "data": {
      "text/html": [
       "<div>\n",
       "<style scoped>\n",
       "    .dataframe tbody tr th:only-of-type {\n",
       "        vertical-align: middle;\n",
       "    }\n",
       "\n",
       "    .dataframe tbody tr th {\n",
       "        vertical-align: top;\n",
       "    }\n",
       "\n",
       "    .dataframe thead th {\n",
       "        text-align: right;\n",
       "    }\n",
       "</style>\n",
       "<table border=\"1\" class=\"dataframe\">\n",
       "  <thead>\n",
       "    <tr style=\"text-align: right;\">\n",
       "      <th></th>\n",
       "      <th>CrossValMeans</th>\n",
       "      <th>CrossValerrors</th>\n",
       "      <th>Algorithm</th>\n",
       "    </tr>\n",
       "  </thead>\n",
       "  <tbody>\n",
       "    <tr>\n",
       "      <th>0</th>\n",
       "      <td>0.752067</td>\n",
       "      <td>0.030638</td>\n",
       "      <td>SVC</td>\n",
       "    </tr>\n",
       "    <tr>\n",
       "      <th>1</th>\n",
       "      <td>0.788995</td>\n",
       "      <td>0.054457</td>\n",
       "      <td>DecisionTree</td>\n",
       "    </tr>\n",
       "    <tr>\n",
       "      <th>2</th>\n",
       "      <td>0.807011</td>\n",
       "      <td>0.038198</td>\n",
       "      <td>AdaBoost</td>\n",
       "    </tr>\n",
       "    <tr>\n",
       "      <th>3</th>\n",
       "      <td>0.822604</td>\n",
       "      <td>0.035685</td>\n",
       "      <td>RandomForest</td>\n",
       "    </tr>\n",
       "    <tr>\n",
       "      <th>4</th>\n",
       "      <td>0.812693</td>\n",
       "      <td>0.035138</td>\n",
       "      <td>ExtraTrees</td>\n",
       "    </tr>\n",
       "    <tr>\n",
       "      <th>5</th>\n",
       "      <td>0.833979</td>\n",
       "      <td>0.040035</td>\n",
       "      <td>GradientBoosting</td>\n",
       "    </tr>\n",
       "    <tr>\n",
       "      <th>6</th>\n",
       "      <td>0.789221</td>\n",
       "      <td>0.059578</td>\n",
       "      <td>MultipleLayerPerceptron</td>\n",
       "    </tr>\n",
       "    <tr>\n",
       "      <th>7</th>\n",
       "      <td>0.732902</td>\n",
       "      <td>0.032625</td>\n",
       "      <td>KNeighboors</td>\n",
       "    </tr>\n",
       "    <tr>\n",
       "      <th>8</th>\n",
       "      <td>0.841719</td>\n",
       "      <td>0.027790</td>\n",
       "      <td>LogisticRegression</td>\n",
       "    </tr>\n",
       "    <tr>\n",
       "      <th>9</th>\n",
       "      <td>0.836126</td>\n",
       "      <td>0.029402</td>\n",
       "      <td>LinearDiscriminantAnalysis</td>\n",
       "    </tr>\n",
       "  </tbody>\n",
       "</table>\n",
       "</div>"
      ],
      "text/plain": [
       "   CrossValMeans  CrossValerrors                   Algorithm\n",
       "0       0.752067        0.030638                         SVC\n",
       "1       0.788995        0.054457                DecisionTree\n",
       "2       0.807011        0.038198                    AdaBoost\n",
       "3       0.822604        0.035685                RandomForest\n",
       "4       0.812693        0.035138                  ExtraTrees\n",
       "5       0.833979        0.040035            GradientBoosting\n",
       "6       0.789221        0.059578     MultipleLayerPerceptron\n",
       "7       0.732902        0.032625                 KNeighboors\n",
       "8       0.841719        0.027790          LogisticRegression\n",
       "9       0.836126        0.029402  LinearDiscriminantAnalysis"
      ]
     },
     "execution_count": 16,
     "metadata": {},
     "output_type": "execute_result"
    }
   ],
   "source": [
    "cv_res"
   ]
  },
  {
   "cell_type": "markdown",
   "metadata": {},
   "source": [
    "LogisticRegression has the highest accuracy\n",
    "\n",
    "choose LogisticRegression, GradientBoosting, LinearDiscriminantAnalysis, RandomForest for the ensemble modeling"
   ]
  },
  {
   "cell_type": "markdown",
   "metadata": {},
   "source": [
    "### Hyperparameter tunning\n"
   ]
  },
  {
   "cell_type": "markdown",
   "metadata": {},
   "source": [
    "#### Logistic Regression"
   ]
  },
  {
   "cell_type": "code",
   "execution_count": 17,
   "metadata": {},
   "outputs": [
    {
     "name": "stdout",
     "output_type": "stream",
     "text": [
      "Fitting 10 folds for each of 10 candidates, totalling 100 fits\n"
     ]
    },
    {
     "name": "stderr",
     "output_type": "stream",
     "text": [
      "[Parallel(n_jobs=1)]: Using backend SequentialBackend with 1 concurrent workers.\n",
      "[Parallel(n_jobs=1)]: Done 100 out of 100 | elapsed:    0.6s finished\n"
     ]
    },
    {
     "data": {
      "text/plain": [
       "0.8417508417508418"
      ]
     },
     "execution_count": 17,
     "metadata": {},
     "output_type": "execute_result"
    }
   ],
   "source": [
    "# logistic regression\n",
    "LRC = LogisticRegression()\n",
    "lr_param_grid = {\"penalty\": [\"l1\", \"l2\"],\n",
    "                 \"C\": [1, 0.5, 0.1, 0.05, 0.01]}\n",
    "\n",
    "gsLRC = GridSearchCV(LRC, param_grid = lr_param_grid, cv = kfold, \n",
    "                     scoring = \"accuracy\", verbose = 1)\n",
    "\n",
    "gsLRC.fit(X_train, y_train)\n",
    "\n",
    "LRC_best = gsLRC.best_estimator_\n",
    "\n",
    "gsLRC.best_score_"
   ]
  },
  {
   "cell_type": "markdown",
   "metadata": {},
   "source": [
    "#### Gradient Boosting"
   ]
  },
  {
   "cell_type": "code",
   "execution_count": 18,
   "metadata": {},
   "outputs": [
    {
     "name": "stdout",
     "output_type": "stream",
     "text": [
      "Fitting 10 folds for each of 72 candidates, totalling 720 fits\n"
     ]
    },
    {
     "name": "stderr",
     "output_type": "stream",
     "text": [
      "[Parallel(n_jobs=1)]: Using backend SequentialBackend with 1 concurrent workers.\n",
      "[Parallel(n_jobs=1)]: Done 720 out of 720 | elapsed:  1.3min finished\n"
     ]
    },
    {
     "data": {
      "text/plain": [
       "0.8417508417508418"
      ]
     },
     "execution_count": 18,
     "metadata": {},
     "output_type": "execute_result"
    }
   ],
   "source": [
    "# gradient boosting\n",
    "GBC = GradientBoostingClassifier()\n",
    "gb_param_grid = {'loss' : [\"deviance\"],\n",
    "              'n_estimators' : [100, 200, 300],\n",
    "              'learning_rate': [0.1, 0.05, 0.01],\n",
    "              'max_depth': [4, 8],\n",
    "              'min_samples_leaf': [100, 150],\n",
    "              'max_features': [0.3, 0.1] \n",
    "              }\n",
    "\n",
    "gsGBC = GridSearchCV(GBC, param_grid = gb_param_grid, cv = kfold, \n",
    "                     scoring = \"accuracy\", verbose = 1)\n",
    "\n",
    "gsGBC.fit(X_train, y_train)\n",
    "\n",
    "GBC_best = gsGBC.best_estimator_\n",
    "\n",
    "gsGBC.best_score_"
   ]
  },
  {
   "cell_type": "markdown",
   "metadata": {},
   "source": [
    "#### Linear Discrimination Analysis"
   ]
  },
  {
   "cell_type": "code",
   "execution_count": 19,
   "metadata": {},
   "outputs": [
    {
     "name": "stdout",
     "output_type": "stream",
     "text": [
      "Fitting 10 folds for each of 2 candidates, totalling 20 fits\n"
     ]
    },
    {
     "name": "stderr",
     "output_type": "stream",
     "text": [
      "[Parallel(n_jobs=1)]: Using backend SequentialBackend with 1 concurrent workers.\n",
      "[Parallel(n_jobs=1)]: Done  20 out of  20 | elapsed:    0.1s finished\n"
     ]
    },
    {
     "data": {
      "text/plain": [
       "0.8361391694725028"
      ]
     },
     "execution_count": 19,
     "metadata": {},
     "output_type": "execute_result"
    }
   ],
   "source": [
    "# Linear Discrimination Analysis\n",
    "LDAC = LinearDiscriminantAnalysis()\n",
    "lda_param_grid = {\"solver\": [\"lsqr\", \"eigen\"],\n",
    "                  \"shrinkage\": [\"auto\"],\n",
    "                  }\n",
    "\n",
    "gsLDAC = GridSearchCV(LDAC, param_grid = lda_param_grid, cv = kfold, \n",
    "                     scoring = \"accuracy\", verbose = 1)\n",
    "\n",
    "gsLDAC.fit(X_train, y_train)\n",
    "\n",
    "LDAC_best = gsLDAC.best_estimator_\n",
    "\n",
    "gsLDAC.best_score_"
   ]
  },
  {
   "cell_type": "markdown",
   "metadata": {},
   "source": [
    "#### RandomForest"
   ]
  },
  {
   "cell_type": "code",
   "execution_count": 20,
   "metadata": {},
   "outputs": [
    {
     "name": "stdout",
     "output_type": "stream",
     "text": [
      "Fitting 10 folds for each of 150 candidates, totalling 1500 fits\n"
     ]
    },
    {
     "name": "stderr",
     "output_type": "stream",
     "text": [
      "[Parallel(n_jobs=1)]: Using backend SequentialBackend with 1 concurrent workers.\n",
      "[Parallel(n_jobs=1)]: Done 1500 out of 1500 | elapsed: 13.6min finished\n"
     ]
    },
    {
     "data": {
      "text/plain": [
       "0.8439955106621774"
      ]
     },
     "execution_count": 20,
     "metadata": {},
     "output_type": "execute_result"
    }
   ],
   "source": [
    "# random forest\n",
    "RFC = RandomForestClassifier()\n",
    "rf_param_grid = {\"min_samples_split\": [2, 4, 10, 12, 16],\n",
    "                  \"min_samples_leaf\": [1, 5, 10],\n",
    "                  \"n_estimators\" :[50, 100, 400, 700, 1000],\n",
    "                  \"criterion\": [\"gini\", \"entropy\"]}\n",
    "\n",
    "gsRFC = GridSearchCV(RFC, param_grid = rf_param_grid, cv = kfold, \n",
    "                     scoring = \"accuracy\", verbose = 1)\n",
    "\n",
    "gsRFC.fit(X_train, y_train)\n",
    "\n",
    "RFC_best = gsRFC.best_estimator_\n",
    "\n",
    "gsRFC.best_score_"
   ]
  },
  {
   "cell_type": "markdown",
   "metadata": {},
   "source": [
    "### Learning Curve\n"
   ]
  },
  {
   "cell_type": "code",
   "execution_count": 22,
   "metadata": {},
   "outputs": [
    {
     "data": {
      "image/png": "[encoded data removed]",
      "text/plain": [
       "<Figure size 432x288 with 1 Axes>"
      ]
     },
     "metadata": {},
     "output_type": "display_data"
    },
    {
     "data": {
      "image/png": "[encoded data removed]",
      "text/plain": [
       "<Figure size 432x288 with 1 Axes>"
      ]
     },
     "metadata": {},
     "output_type": "display_data"
    },
    {
     "data": {
      "image/png": "[encoded data removed]",
      "text/plain": [
       "<Figure size 432x288 with 1 Axes>"
      ]
     },
     "metadata": {},
     "output_type": "display_data"
    },
    {
     "data": {
      "image/png": "[encoded data removed]",
      "text/plain": [
       "<Figure size 432x288 with 1 Axes>"
      ]
     },
     "metadata": {},
     "output_type": "display_data"
    }
   ],
   "source": [
    "def plot_learning_curve(estimator, title, X, y, ylim = None, cv = None, \n",
    "                        train_sizes = np.linspace(.1, 1.0, 5)):\n",
    "    \"\"\"Generate a simple plot of the test and training learning curve\"\"\"\n",
    "    plt.figure()\n",
    "    plt.title(title)\n",
    "    if ylim is not None:\n",
    "        plt.ylim(*ylim)\n",
    "    plt.xlabel(\"Training examples\")\n",
    "    plt.ylabel(\"Score\")\n",
    "    train_sizes, train_scores, test_scores = learning_curve(\n",
    "        estimator, X, y, cv = cv, train_sizes = train_sizes)\n",
    "    train_scores_mean = np.mean(train_scores, axis=1)\n",
    "    train_scores_std = np.std(train_scores, axis=1)\n",
    "    test_scores_mean = np.mean(test_scores, axis=1)\n",
    "    test_scores_std = np.std(test_scores, axis=1)\n",
    "    plt.grid()\n",
    "\n",
    "    plt.fill_between(train_sizes, train_scores_mean - train_scores_std,\n",
    "                     train_scores_mean + train_scores_std, alpha = 0.1,\n",
    "                     color = \"r\")\n",
    "    plt.fill_between(train_sizes, test_scores_mean - test_scores_std,\n",
    "                     test_scores_mean + test_scores_std, alpha = 0.1, color = \"g\")\n",
    "    plt.plot(train_sizes, train_scores_mean, 'o-', color = \"r\",\n",
    "             label = \"Training score\")\n",
    "    plt.plot(train_sizes, test_scores_mean, 'o-', color = \"g\",\n",
    "             label = \"Cross-validation score\")\n",
    "\n",
    "    plt.legend(loc = \"best\")\n",
    "    return plt\n",
    "\n",
    "g = plot_learning_curve(gsLRC.best_estimator_,\"Logistic Regression learning curves\",\n",
    "                        X_train, y_train, cv = kfold)\n",
    "g = plot_learning_curve(gsGBC.best_estimator_,\"Gradient Boosting learning curves\",\n",
    "                        X_train, y_train, cv = kfold)\n",
    "g = plot_learning_curve(gsLDAC.best_estimator_,\"Linear Discrimination Analysis learning curves\",\n",
    "                        X_train, y_train, cv = kfold)\n",
    "g = plot_learning_curve(gsRFC.best_estimator_,\"Random Forest learning curves\",\n",
    "                        X_train, y_train, cv = kfold)"
   ]
  },
  {
   "cell_type": "markdown",
   "metadata": {},
   "source": [
    "Random Forest is overfitting, should perform better if more training examples"
   ]
  },
  {
   "cell_type": "code",
   "execution_count": 23,
   "metadata": {},
   "outputs": [
    {
     "data": {
      "image/png": "[encoded data removed]",
      "text/plain": [
       "<Figure size 432x288 with 2 Axes>"
      ]
     },
     "metadata": {},
     "output_type": "display_data"
    }
   ],
   "source": [
    "test_Survived_GBC = pd.Series(GBC_best.predict(test_df), name=\"GB\")\n",
    "test_Survived_LDAC = pd.Series(LDAC_best.predict(test_df), name=\"LDAC\")\n",
    "test_Survived_LRC = pd.Series(LRC_best.predict(test_df), name=\"LR\")\n",
    "test_Survived_RFC = pd.Series(RFC_best.predict(test_df), name=\"RF\")\n",
    "\n",
    "# Concatenate all classifier results\n",
    "ensemble_results = pd.concat([test_Survived_GBC, test_Survived_LDAC,\n",
    "                              test_Survived_LRC, test_Survived_RFC \n",
    "                              ],\n",
    "                              axis = 1)\n",
    "\n",
    "\n",
    "g = sns.heatmap(ensemble_results.corr(), annot=True)"
   ]
  },
  {
   "cell_type": "markdown",
   "metadata": {},
   "source": [
    "prediction is quite similar => should not be used to ensemble model<br>\n",
    "but we can take a shot"
   ]
  },
  {
   "cell_type": "code",
   "execution_count": 24,
   "metadata": {},
   "outputs": [],
   "source": [
    "votingC = VotingClassifier(estimators = [('RF', RFC_best),\n",
    "                                         ('GB', GBC_best), \n",
    "                                         ('LR', LRC_best),\n",
    "                                         ('LD', LDAC_best)], \n",
    "                           voting = 'soft')\n",
    "\n",
    "votingC = votingC.fit(X_train, y_train)"
   ]
  },
  {
   "cell_type": "markdown",
   "metadata": {},
   "source": [
    "## Prediction\n"
   ]
  },
  {
   "cell_type": "markdown",
   "metadata": {},
   "source": [
    "### Prediction by Ensemble Model"
   ]
  },
  {
   "cell_type": "code",
   "execution_count": 25,
   "metadata": {},
   "outputs": [],
   "source": [
    "test_Survived = pd.Series(votingC.predict(test_df), name = \"Survived\")\n",
    "\n",
    "results = pd.concat([id_test.reset_index(drop = True),\n",
    "                     test_Survived], axis = 1)\n",
    "\n",
    "results.to_csv(\"ensemble_python_voting.csv\", index = False)"
   ]
  },
  {
   "cell_type": "markdown",
   "metadata": {},
   "source": [
    "### Prediction by Gradient Boosting (Model with highest Val_Accuracy)"
   ]
  },
  {
   "cell_type": "code",
   "execution_count": 27,
   "metadata": {},
   "outputs": [],
   "source": [
    "result = pd.Series(GBC_best.predict(test_df), name = \"Survived\")\n",
    "\n",
    "result = pd.concat([id_test.reset_index(drop = True),\n",
    "                     result], axis = 1)\n",
    "\n",
    "result.to_csv(\"result.csv\", index = False)"
   ]
  },
  {
   "cell_type": "markdown",
   "metadata": {},
   "source": [
    "## Conclusion\n",
    "The result of ensemble model scores around 0.8 while Gradient Boosing scores around 0.78. The ensemble model beats all other single model even the voting estimators have a high correlation."
   ]
  }
 ],
 "metadata": {
  "kernelspec": {
   "display_name": "Python 3",
   "language": "python",
   "name": "python3"
  },
  "language_info": {
   "codemirror_mode": {
    "name": "ipython",
    "version": 3
   },
   "file_extension": ".py",
   "mimetype": "text/x-python",
   "name": "python",
   "nbconvert_exporter": "python",
   "pygments_lexer": "ipython3",
   "version": "3.6.5"
  }
 },
 "nbformat": 4,
 "nbformat_minor": 2
}
