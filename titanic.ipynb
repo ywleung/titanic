{
 "cells": [
  {
   "cell_type": "code",
   "execution_count": 1,
   "metadata": {},
   "outputs": [],
   "source": [
    "import numpy as np\n",
    "import pandas as pd\n",
    "import matplotlib.pyplot as plt\n",
    "import seaborn as sns\n",
    "from collections import Counter"
   ]
  },
  {
   "cell_type": "markdown",
   "metadata": {},
   "source": [
    "## 1. Load and check data"
   ]
  },
  {
   "cell_type": "markdown",
   "metadata": {},
   "source": [
    "### 1.1 Load data"
   ]
  },
  {
   "cell_type": "code",
   "execution_count": 2,
   "metadata": {},
   "outputs": [
    {
     "data": {
      "text/html": [
       "<div>\n",
       "<style scoped>\n",
       "    .dataframe tbody tr th:only-of-type {\n",
       "        vertical-align: middle;\n",
       "    }\n",
       "\n",
       "    .dataframe tbody tr th {\n",
       "        vertical-align: top;\n",
       "    }\n",
       "\n",
       "    .dataframe thead th {\n",
       "        text-align: right;\n",
       "    }\n",
       "</style>\n",
       "<table border=\"1\" class=\"dataframe\">\n",
       "  <thead>\n",
       "    <tr style=\"text-align: right;\">\n",
       "      <th></th>\n",
       "      <th>PassengerId</th>\n",
       "      <th>Survived</th>\n",
       "      <th>Pclass</th>\n",
       "      <th>Name</th>\n",
       "      <th>Sex</th>\n",
       "      <th>Age</th>\n",
       "      <th>SibSp</th>\n",
       "      <th>Parch</th>\n",
       "      <th>Ticket</th>\n",
       "      <th>Fare</th>\n",
       "      <th>Cabin</th>\n",
       "      <th>Embarked</th>\n",
       "    </tr>\n",
       "  </thead>\n",
       "  <tbody>\n",
       "    <tr>\n",
       "      <th>0</th>\n",
       "      <td>1</td>\n",
       "      <td>0</td>\n",
       "      <td>3</td>\n",
       "      <td>Braund, Mr. Owen Harris</td>\n",
       "      <td>male</td>\n",
       "      <td>22.0</td>\n",
       "      <td>1</td>\n",
       "      <td>0</td>\n",
       "      <td>A/5 21171</td>\n",
       "      <td>7.2500</td>\n",
       "      <td>NaN</td>\n",
       "      <td>S</td>\n",
       "    </tr>\n",
       "    <tr>\n",
       "      <th>1</th>\n",
       "      <td>2</td>\n",
       "      <td>1</td>\n",
       "      <td>1</td>\n",
       "      <td>Cumings, Mrs. John Bradley (Florence Briggs Th...</td>\n",
       "      <td>female</td>\n",
       "      <td>38.0</td>\n",
       "      <td>1</td>\n",
       "      <td>0</td>\n",
       "      <td>PC 17599</td>\n",
       "      <td>71.2833</td>\n",
       "      <td>C85</td>\n",
       "      <td>C</td>\n",
       "    </tr>\n",
       "    <tr>\n",
       "      <th>2</th>\n",
       "      <td>3</td>\n",
       "      <td>1</td>\n",
       "      <td>3</td>\n",
       "      <td>Heikkinen, Miss. Laina</td>\n",
       "      <td>female</td>\n",
       "      <td>26.0</td>\n",
       "      <td>0</td>\n",
       "      <td>0</td>\n",
       "      <td>STON/O2. 3101282</td>\n",
       "      <td>7.9250</td>\n",
       "      <td>NaN</td>\n",
       "      <td>S</td>\n",
       "    </tr>\n",
       "    <tr>\n",
       "      <th>3</th>\n",
       "      <td>4</td>\n",
       "      <td>1</td>\n",
       "      <td>1</td>\n",
       "      <td>Futrelle, Mrs. Jacques Heath (Lily May Peel)</td>\n",
       "      <td>female</td>\n",
       "      <td>35.0</td>\n",
       "      <td>1</td>\n",
       "      <td>0</td>\n",
       "      <td>113803</td>\n",
       "      <td>53.1000</td>\n",
       "      <td>C123</td>\n",
       "      <td>S</td>\n",
       "    </tr>\n",
       "    <tr>\n",
       "      <th>4</th>\n",
       "      <td>5</td>\n",
       "      <td>0</td>\n",
       "      <td>3</td>\n",
       "      <td>Allen, Mr. William Henry</td>\n",
       "      <td>male</td>\n",
       "      <td>35.0</td>\n",
       "      <td>0</td>\n",
       "      <td>0</td>\n",
       "      <td>373450</td>\n",
       "      <td>8.0500</td>\n",
       "      <td>NaN</td>\n",
       "      <td>S</td>\n",
       "    </tr>\n",
       "  </tbody>\n",
       "</table>\n",
       "</div>"
      ],
      "text/plain": [
       "   PassengerId  Survived  Pclass  \\\n",
       "0            1         0       3   \n",
       "1            2         1       1   \n",
       "2            3         1       3   \n",
       "3            4         1       1   \n",
       "4            5         0       3   \n",
       "\n",
       "                                                Name     Sex   Age  SibSp  \\\n",
       "0                            Braund, Mr. Owen Harris    male  22.0      1   \n",
       "1  Cumings, Mrs. John Bradley (Florence Briggs Th...  female  38.0      1   \n",
       "2                             Heikkinen, Miss. Laina  female  26.0      0   \n",
       "3       Futrelle, Mrs. Jacques Heath (Lily May Peel)  female  35.0      1   \n",
       "4                           Allen, Mr. William Henry    male  35.0      0   \n",
       "\n",
       "   Parch            Ticket     Fare Cabin Embarked  \n",
       "0      0         A/5 21171   7.2500   NaN        S  \n",
       "1      0          PC 17599  71.2833   C85        C  \n",
       "2      0  STON/O2. 3101282   7.9250   NaN        S  \n",
       "3      0            113803  53.1000  C123        S  \n",
       "4      0            373450   8.0500   NaN        S  "
      ]
     },
     "execution_count": 2,
     "metadata": {},
     "output_type": "execute_result"
    }
   ],
   "source": [
    "# load datasets\n",
    "path = \"datasets/\"\n",
    "train_data = pd.read_csv(path + \"train.csv\")\n",
    "test_data = pd.read_csv(path + \"test.csv\")\n",
    "\n",
    "train_data.head()"
   ]
  },
  {
   "cell_type": "markdown",
   "metadata": {},
   "source": [
    "### 1.2 Outlier detection"
   ]
  },
  {
   "cell_type": "code",
   "execution_count": 3,
   "metadata": {},
   "outputs": [
    {
     "name": "stderr",
     "output_type": "stream",
     "text": [
      "C:\\Users\\wlyip\\Anaconda3\\lib\\site-packages\\numpy\\lib\\function_base.py:4291: RuntimeWarning: Invalid value encountered in percentile\n",
      "  interpolation=interpolation)\n"
     ]
    }
   ],
   "source": [
    "# define a function to detect outliers\n",
    "def detect_outliers(df, n, features):\n",
    "    \"\"\"\n",
    "    return a list of indices corresponding to the observation containing \n",
    "    more n outliers according to Tukey method\n",
    "    \"\"\"\n",
    "    \n",
    "    outlier_indices = []\n",
    "    \n",
    "    # iterate over columns\n",
    "    for col in features:\n",
    "        # first quartile\n",
    "        Q1 = np.percentile(df[col], 25)\n",
    "        # third quartile\n",
    "        Q3 = np.percentile(df[col], 75)\n",
    "        # inter-quartile range\n",
    "        IQR = Q3 - Q1\n",
    "        upper_range = Q3 + 1.5 * IQR\n",
    "        lower_range = Q1 - 1.5 * IQR\n",
    "        \n",
    "        # a list of indices of outliers\n",
    "        outlier_col_indices = df[(df[col] < lower_range) | (df[col] > upper_range)].index\n",
    "        \n",
    "        outlier_indices.extend(outlier_col_indices)\n",
    "    \n",
    "    # select observations containing more than n outliers\n",
    "    outlier_indices = Counter(outlier_indices)\n",
    "    multiple_outliers = [k for k, v in outlier_indices.items() if v > n]\n",
    "    \n",
    "    return multiple_outliers\n",
    "\n",
    "# find out outliers from train_data with n = 2\n",
    "outlier_indices = detect_outliers(train_data, 2, \n",
    "                                  [\"Age\", \"SibSp\", \"Parch\", \"Fare\"])"
   ]
  },
  {
   "cell_type": "code",
   "execution_count": 4,
   "metadata": {},
   "outputs": [
    {
     "data": {
      "text/html": [
       "<div>\n",
       "<style scoped>\n",
       "    .dataframe tbody tr th:only-of-type {\n",
       "        vertical-align: middle;\n",
       "    }\n",
       "\n",
       "    .dataframe tbody tr th {\n",
       "        vertical-align: top;\n",
       "    }\n",
       "\n",
       "    .dataframe thead th {\n",
       "        text-align: right;\n",
       "    }\n",
       "</style>\n",
       "<table border=\"1\" class=\"dataframe\">\n",
       "  <thead>\n",
       "    <tr style=\"text-align: right;\">\n",
       "      <th></th>\n",
       "      <th>PassengerId</th>\n",
       "      <th>Survived</th>\n",
       "      <th>Pclass</th>\n",
       "      <th>Name</th>\n",
       "      <th>Sex</th>\n",
       "      <th>Age</th>\n",
       "      <th>SibSp</th>\n",
       "      <th>Parch</th>\n",
       "      <th>Ticket</th>\n",
       "      <th>Fare</th>\n",
       "      <th>Cabin</th>\n",
       "      <th>Embarked</th>\n",
       "    </tr>\n",
       "  </thead>\n",
       "  <tbody>\n",
       "    <tr>\n",
       "      <th>27</th>\n",
       "      <td>28</td>\n",
       "      <td>0</td>\n",
       "      <td>1</td>\n",
       "      <td>Fortune, Mr. Charles Alexander</td>\n",
       "      <td>male</td>\n",
       "      <td>19.0</td>\n",
       "      <td>3</td>\n",
       "      <td>2</td>\n",
       "      <td>19950</td>\n",
       "      <td>263.00</td>\n",
       "      <td>C23 C25 C27</td>\n",
       "      <td>S</td>\n",
       "    </tr>\n",
       "    <tr>\n",
       "      <th>88</th>\n",
       "      <td>89</td>\n",
       "      <td>1</td>\n",
       "      <td>1</td>\n",
       "      <td>Fortune, Miss. Mabel Helen</td>\n",
       "      <td>female</td>\n",
       "      <td>23.0</td>\n",
       "      <td>3</td>\n",
       "      <td>2</td>\n",
       "      <td>19950</td>\n",
       "      <td>263.00</td>\n",
       "      <td>C23 C25 C27</td>\n",
       "      <td>S</td>\n",
       "    </tr>\n",
       "    <tr>\n",
       "      <th>159</th>\n",
       "      <td>160</td>\n",
       "      <td>0</td>\n",
       "      <td>3</td>\n",
       "      <td>Sage, Master. Thomas Henry</td>\n",
       "      <td>male</td>\n",
       "      <td>NaN</td>\n",
       "      <td>8</td>\n",
       "      <td>2</td>\n",
       "      <td>CA. 2343</td>\n",
       "      <td>69.55</td>\n",
       "      <td>NaN</td>\n",
       "      <td>S</td>\n",
       "    </tr>\n",
       "    <tr>\n",
       "      <th>180</th>\n",
       "      <td>181</td>\n",
       "      <td>0</td>\n",
       "      <td>3</td>\n",
       "      <td>Sage, Miss. Constance Gladys</td>\n",
       "      <td>female</td>\n",
       "      <td>NaN</td>\n",
       "      <td>8</td>\n",
       "      <td>2</td>\n",
       "      <td>CA. 2343</td>\n",
       "      <td>69.55</td>\n",
       "      <td>NaN</td>\n",
       "      <td>S</td>\n",
       "    </tr>\n",
       "    <tr>\n",
       "      <th>201</th>\n",
       "      <td>202</td>\n",
       "      <td>0</td>\n",
       "      <td>3</td>\n",
       "      <td>Sage, Mr. Frederick</td>\n",
       "      <td>male</td>\n",
       "      <td>NaN</td>\n",
       "      <td>8</td>\n",
       "      <td>2</td>\n",
       "      <td>CA. 2343</td>\n",
       "      <td>69.55</td>\n",
       "      <td>NaN</td>\n",
       "      <td>S</td>\n",
       "    </tr>\n",
       "    <tr>\n",
       "      <th>324</th>\n",
       "      <td>325</td>\n",
       "      <td>0</td>\n",
       "      <td>3</td>\n",
       "      <td>Sage, Mr. George John Jr</td>\n",
       "      <td>male</td>\n",
       "      <td>NaN</td>\n",
       "      <td>8</td>\n",
       "      <td>2</td>\n",
       "      <td>CA. 2343</td>\n",
       "      <td>69.55</td>\n",
       "      <td>NaN</td>\n",
       "      <td>S</td>\n",
       "    </tr>\n",
       "    <tr>\n",
       "      <th>341</th>\n",
       "      <td>342</td>\n",
       "      <td>1</td>\n",
       "      <td>1</td>\n",
       "      <td>Fortune, Miss. Alice Elizabeth</td>\n",
       "      <td>female</td>\n",
       "      <td>24.0</td>\n",
       "      <td>3</td>\n",
       "      <td>2</td>\n",
       "      <td>19950</td>\n",
       "      <td>263.00</td>\n",
       "      <td>C23 C25 C27</td>\n",
       "      <td>S</td>\n",
       "    </tr>\n",
       "    <tr>\n",
       "      <th>792</th>\n",
       "      <td>793</td>\n",
       "      <td>0</td>\n",
       "      <td>3</td>\n",
       "      <td>Sage, Miss. Stella Anna</td>\n",
       "      <td>female</td>\n",
       "      <td>NaN</td>\n",
       "      <td>8</td>\n",
       "      <td>2</td>\n",
       "      <td>CA. 2343</td>\n",
       "      <td>69.55</td>\n",
       "      <td>NaN</td>\n",
       "      <td>S</td>\n",
       "    </tr>\n",
       "    <tr>\n",
       "      <th>846</th>\n",
       "      <td>847</td>\n",
       "      <td>0</td>\n",
       "      <td>3</td>\n",
       "      <td>Sage, Mr. Douglas Bullen</td>\n",
       "      <td>male</td>\n",
       "      <td>NaN</td>\n",
       "      <td>8</td>\n",
       "      <td>2</td>\n",
       "      <td>CA. 2343</td>\n",
       "      <td>69.55</td>\n",
       "      <td>NaN</td>\n",
       "      <td>S</td>\n",
       "    </tr>\n",
       "    <tr>\n",
       "      <th>863</th>\n",
       "      <td>864</td>\n",
       "      <td>0</td>\n",
       "      <td>3</td>\n",
       "      <td>Sage, Miss. Dorothy Edith \"Dolly\"</td>\n",
       "      <td>female</td>\n",
       "      <td>NaN</td>\n",
       "      <td>8</td>\n",
       "      <td>2</td>\n",
       "      <td>CA. 2343</td>\n",
       "      <td>69.55</td>\n",
       "      <td>NaN</td>\n",
       "      <td>S</td>\n",
       "    </tr>\n",
       "  </tbody>\n",
       "</table>\n",
       "</div>"
      ],
      "text/plain": [
       "     PassengerId  Survived  Pclass                               Name     Sex  \\\n",
       "27            28         0       1     Fortune, Mr. Charles Alexander    male   \n",
       "88            89         1       1         Fortune, Miss. Mabel Helen  female   \n",
       "159          160         0       3         Sage, Master. Thomas Henry    male   \n",
       "180          181         0       3       Sage, Miss. Constance Gladys  female   \n",
       "201          202         0       3                Sage, Mr. Frederick    male   \n",
       "324          325         0       3           Sage, Mr. George John Jr    male   \n",
       "341          342         1       1     Fortune, Miss. Alice Elizabeth  female   \n",
       "792          793         0       3            Sage, Miss. Stella Anna  female   \n",
       "846          847         0       3           Sage, Mr. Douglas Bullen    male   \n",
       "863          864         0       3  Sage, Miss. Dorothy Edith \"Dolly\"  female   \n",
       "\n",
       "      Age  SibSp  Parch    Ticket    Fare        Cabin Embarked  \n",
       "27   19.0      3      2     19950  263.00  C23 C25 C27        S  \n",
       "88   23.0      3      2     19950  263.00  C23 C25 C27        S  \n",
       "159   NaN      8      2  CA. 2343   69.55          NaN        S  \n",
       "180   NaN      8      2  CA. 2343   69.55          NaN        S  \n",
       "201   NaN      8      2  CA. 2343   69.55          NaN        S  \n",
       "324   NaN      8      2  CA. 2343   69.55          NaN        S  \n",
       "341  24.0      3      2     19950  263.00  C23 C25 C27        S  \n",
       "792   NaN      8      2  CA. 2343   69.55          NaN        S  \n",
       "846   NaN      8      2  CA. 2343   69.55          NaN        S  \n",
       "863   NaN      8      2  CA. 2343   69.55          NaN        S  "
      ]
     },
     "execution_count": 4,
     "metadata": {},
     "output_type": "execute_result"
    }
   ],
   "source": [
    "# take a look at outliers\n",
    "train_data.loc[outlier_indices]"
   ]
  },
  {
   "cell_type": "code",
   "execution_count": 5,
   "metadata": {},
   "outputs": [],
   "source": [
    "# remove observations containing outliers\n",
    "# reset index\n",
    "# train_data = train_data.drop(outlier_indices, axis = 0).reset_index(drop = True)"
   ]
  },
  {
   "cell_type": "markdown",
   "metadata": {},
   "source": [
    "### 1.3 Joining train and test set"
   ]
  },
  {
   "cell_type": "code",
   "execution_count": 6,
   "metadata": {},
   "outputs": [
    {
     "name": "stderr",
     "output_type": "stream",
     "text": [
      "C:\\Users\\wlyip\\Anaconda3\\lib\\site-packages\\ipykernel_launcher.py:3: FutureWarning: Sorting because non-concatenation axis is not aligned. A future version\n",
      "of pandas will change to not sort by default.\n",
      "\n",
      "To accept the future behavior, pass 'sort=True'.\n",
      "\n",
      "To retain the current behavior and silence the warning, pass sort=False\n",
      "\n",
      "  This is separate from the ipykernel package so we can avoid doing imports until\n"
     ]
    },
    {
     "data": {
      "text/plain": [
       "Age             263\n",
       "Cabin          1014\n",
       "Embarked          2\n",
       "Fare              1\n",
       "Name              0\n",
       "Parch             0\n",
       "PassengerId       0\n",
       "Pclass            0\n",
       "Sex               0\n",
       "SibSp             0\n",
       "Survived        418\n",
       "Ticket            0\n",
       "dtype: int64"
      ]
     },
     "execution_count": 6,
     "metadata": {},
     "output_type": "execute_result"
    }
   ],
   "source": [
    "# join train_data and test_data for data preprocessing\n",
    "train_len = len(train_data)\n",
    "dataset = pd.concat(objs = [train_data, test_data], axis = 0).reset_index(drop = True)\n",
    "\n",
    "# fill empty and NaN values with NaN\n",
    "dataset = dataset.fillna(np.nan)\n",
    "\n",
    "# check for null value\n",
    "dataset.isnull().sum()"
   ]
  },
  {
   "cell_type": "code",
   "execution_count": 7,
   "metadata": {},
   "outputs": [
    {
     "name": "stdout",
     "output_type": "stream",
     "text": [
      "<class 'pandas.core.frame.DataFrame'>\n",
      "RangeIndex: 891 entries, 0 to 890\n",
      "Data columns (total 12 columns):\n",
      "PassengerId    891 non-null int64\n",
      "Survived       891 non-null int64\n",
      "Pclass         891 non-null int64\n",
      "Name           891 non-null object\n",
      "Sex            891 non-null object\n",
      "Age            714 non-null float64\n",
      "SibSp          891 non-null int64\n",
      "Parch          891 non-null int64\n",
      "Ticket         891 non-null object\n",
      "Fare           891 non-null float64\n",
      "Cabin          204 non-null object\n",
      "Embarked       889 non-null object\n",
      "dtypes: float64(2), int64(5), object(5)\n",
      "memory usage: 83.6+ KB\n"
     ]
    },
    {
     "data": {
      "text/plain": [
       "PassengerId      0\n",
       "Survived         0\n",
       "Pclass           0\n",
       "Name             0\n",
       "Sex              0\n",
       "Age            177\n",
       "SibSp            0\n",
       "Parch            0\n",
       "Ticket           0\n",
       "Fare             0\n",
       "Cabin          687\n",
       "Embarked         2\n",
       "dtype: int64"
      ]
     },
     "execution_count": 7,
     "metadata": {},
     "output_type": "execute_result"
    }
   ],
   "source": [
    "# check data types and if any missing data\n",
    "train_data.info()\n",
    "train_data.isnull().sum()"
   ]
  },
  {
   "cell_type": "code",
   "execution_count": 8,
   "metadata": {},
   "outputs": [
    {
     "data": {
      "text/html": [
       "<div>\n",
       "<style scoped>\n",
       "    .dataframe tbody tr th:only-of-type {\n",
       "        vertical-align: middle;\n",
       "    }\n",
       "\n",
       "    .dataframe tbody tr th {\n",
       "        vertical-align: top;\n",
       "    }\n",
       "\n",
       "    .dataframe thead th {\n",
       "        text-align: right;\n",
       "    }\n",
       "</style>\n",
       "<table border=\"1\" class=\"dataframe\">\n",
       "  <thead>\n",
       "    <tr style=\"text-align: right;\">\n",
       "      <th></th>\n",
       "      <th>PassengerId</th>\n",
       "      <th>Survived</th>\n",
       "      <th>Pclass</th>\n",
       "      <th>Age</th>\n",
       "      <th>SibSp</th>\n",
       "      <th>Parch</th>\n",
       "      <th>Fare</th>\n",
       "    </tr>\n",
       "  </thead>\n",
       "  <tbody>\n",
       "    <tr>\n",
       "      <th>count</th>\n",
       "      <td>891.000000</td>\n",
       "      <td>891.000000</td>\n",
       "      <td>891.000000</td>\n",
       "      <td>714.000000</td>\n",
       "      <td>891.000000</td>\n",
       "      <td>891.000000</td>\n",
       "      <td>891.000000</td>\n",
       "    </tr>\n",
       "    <tr>\n",
       "      <th>mean</th>\n",
       "      <td>446.000000</td>\n",
       "      <td>0.383838</td>\n",
       "      <td>2.308642</td>\n",
       "      <td>29.699118</td>\n",
       "      <td>0.523008</td>\n",
       "      <td>0.381594</td>\n",
       "      <td>32.204208</td>\n",
       "    </tr>\n",
       "    <tr>\n",
       "      <th>std</th>\n",
       "      <td>257.353842</td>\n",
       "      <td>0.486592</td>\n",
       "      <td>0.836071</td>\n",
       "      <td>14.526497</td>\n",
       "      <td>1.102743</td>\n",
       "      <td>0.806057</td>\n",
       "      <td>49.693429</td>\n",
       "    </tr>\n",
       "    <tr>\n",
       "      <th>min</th>\n",
       "      <td>1.000000</td>\n",
       "      <td>0.000000</td>\n",
       "      <td>1.000000</td>\n",
       "      <td>0.420000</td>\n",
       "      <td>0.000000</td>\n",
       "      <td>0.000000</td>\n",
       "      <td>0.000000</td>\n",
       "    </tr>\n",
       "    <tr>\n",
       "      <th>25%</th>\n",
       "      <td>223.500000</td>\n",
       "      <td>0.000000</td>\n",
       "      <td>2.000000</td>\n",
       "      <td>20.125000</td>\n",
       "      <td>0.000000</td>\n",
       "      <td>0.000000</td>\n",
       "      <td>7.910400</td>\n",
       "    </tr>\n",
       "    <tr>\n",
       "      <th>50%</th>\n",
       "      <td>446.000000</td>\n",
       "      <td>0.000000</td>\n",
       "      <td>3.000000</td>\n",
       "      <td>28.000000</td>\n",
       "      <td>0.000000</td>\n",
       "      <td>0.000000</td>\n",
       "      <td>14.454200</td>\n",
       "    </tr>\n",
       "    <tr>\n",
       "      <th>75%</th>\n",
       "      <td>668.500000</td>\n",
       "      <td>1.000000</td>\n",
       "      <td>3.000000</td>\n",
       "      <td>38.000000</td>\n",
       "      <td>1.000000</td>\n",
       "      <td>0.000000</td>\n",
       "      <td>31.000000</td>\n",
       "    </tr>\n",
       "    <tr>\n",
       "      <th>max</th>\n",
       "      <td>891.000000</td>\n",
       "      <td>1.000000</td>\n",
       "      <td>3.000000</td>\n",
       "      <td>80.000000</td>\n",
       "      <td>8.000000</td>\n",
       "      <td>6.000000</td>\n",
       "      <td>512.329200</td>\n",
       "    </tr>\n",
       "  </tbody>\n",
       "</table>\n",
       "</div>"
      ],
      "text/plain": [
       "       PassengerId    Survived      Pclass         Age       SibSp  \\\n",
       "count   891.000000  891.000000  891.000000  714.000000  891.000000   \n",
       "mean    446.000000    0.383838    2.308642   29.699118    0.523008   \n",
       "std     257.353842    0.486592    0.836071   14.526497    1.102743   \n",
       "min       1.000000    0.000000    1.000000    0.420000    0.000000   \n",
       "25%     223.500000    0.000000    2.000000   20.125000    0.000000   \n",
       "50%     446.000000    0.000000    3.000000   28.000000    0.000000   \n",
       "75%     668.500000    1.000000    3.000000   38.000000    1.000000   \n",
       "max     891.000000    1.000000    3.000000   80.000000    8.000000   \n",
       "\n",
       "            Parch        Fare  \n",
       "count  891.000000  891.000000  \n",
       "mean     0.381594   32.204208  \n",
       "std      0.806057   49.693429  \n",
       "min      0.000000    0.000000  \n",
       "25%      0.000000    7.910400  \n",
       "50%      0.000000   14.454200  \n",
       "75%      0.000000   31.000000  \n",
       "max      6.000000  512.329200  "
      ]
     },
     "execution_count": 8,
     "metadata": {},
     "output_type": "execute_result"
    }
   ],
   "source": [
    "train_data.describe()"
   ]
  },
  {
   "cell_type": "markdown",
   "metadata": {},
   "source": [
    "# 2. Feature Analysis"
   ]
  },
  {
   "cell_type": "markdown",
   "metadata": {},
   "source": [
    "### 2.1 Numerical values"
   ]
  },
  {
   "cell_type": "code",
   "execution_count": 9,
   "metadata": {},
   "outputs": [
    {
     "data": {
      "image/png": "[encoded data removed]",
      "text/plain": [
       "<Figure size 432x288 with 2 Axes>"
      ]
     },
     "metadata": {},
     "output_type": "display_data"
    }
   ],
   "source": [
    "# correlation matrix between numerical values and survived\n",
    "g = sns.heatmap(train_data[[\"Survived\", \"Age\", \"SibSp\", \"Parch\", \"Fare\"]].corr(),\n",
    "                annot = True, fmt = \".2f\", cmap = \"coolwarm\")"
   ]
  },
  {
   "cell_type": "markdown",
   "metadata": {},
   "source": [
    "only Fare have a significant correlation with Survived"
   ]
  },
  {
   "cell_type": "markdown",
   "metadata": {},
   "source": [
    "#### Age"
   ]
  },
  {
   "cell_type": "code",
   "execution_count": 10,
   "metadata": {},
   "outputs": [
    {
     "name": "stderr",
     "output_type": "stream",
     "text": [
      "C:\\Users\\wlyip\\Anaconda3\\lib\\site-packages\\matplotlib\\axes\\_axes.py:6462: UserWarning: The 'normed' kwarg is deprecated, and has been replaced by the 'density' kwarg.\n",
      "  warnings.warn(\"The 'normed' kwarg is deprecated, and has been \"\n",
      "C:\\Users\\wlyip\\Anaconda3\\lib\\site-packages\\matplotlib\\axes\\_axes.py:6462: UserWarning: The 'normed' kwarg is deprecated, and has been replaced by the 'density' kwarg.\n",
      "  warnings.warn(\"The 'normed' kwarg is deprecated, and has been \"\n"
     ]
    },
    {
     "data": {
      "image/png": "[encoded data removed]",
      "text/plain": [
       "<Figure size 432x216 with 2 Axes>"
      ]
     },
     "metadata": {},
     "output_type": "display_data"
    }
   ],
   "source": [
    "# Age vs Survived\n",
    "g = sns.FacetGrid(train_data, col = \"Survived\")\n",
    "g = g.map(sns.distplot, \"Age\")"
   ]
  },
  {
   "cell_type": "markdown",
   "metadata": {},
   "source": [
    "look like a normal distribution\n",
    "\n",
    "two subplots are not the same\n",
    "a peak corresponding to young passengers in the plot Survived = 1\n",
    "passengers > 60 year-old is unlikely to survive\n",
    "\n",
    "=> very young passengers have high survival rate"
   ]
  },
  {
   "cell_type": "code",
   "execution_count": 11,
   "metadata": {},
   "outputs": [
    {
     "data": {
      "image/png": "[encoded data removed]",
      "text/plain": [
       "<Figure size 432x288 with 1 Axes>"
      ]
     },
     "metadata": {},
     "output_type": "display_data"
    }
   ],
   "source": [
    "# Age distribution\n",
    "g = sns.kdeplot(train_data[\"Age\"][(train_data[\"Survived\"] == 0) & \n",
    "                                  (train_data[\"Age\"].notnull())],\n",
    "               color = \"Red\", shade = True)\n",
    "g = sns.kdeplot(train_data[\"Age\"][(train_data[\"Survived\"] == 1) &\n",
    "                                 (train_data[\"Age\"].notnull())],\n",
    "               color = \"Blue\", shade = True)\n",
    "g.set_xlabel(\"Age\")\n",
    "g.set_ylabel(\"Frequency\")\n",
    "g = g.legend([\"Not Survived\", \"Survived\"])"
   ]
  },
  {
   "cell_type": "markdown",
   "metadata": {},
   "source": [
    "show that a peak corresponding to very young passengers"
   ]
  },
  {
   "cell_type": "markdown",
   "metadata": {},
   "source": [
    "#### SibSp"
   ]
  },
  {
   "cell_type": "code",
   "execution_count": 12,
   "metadata": {},
   "outputs": [
    {
     "data": {
      "text/plain": [
       "<seaborn.axisgrid.FacetGrid at 0x1a81ce05940>"
      ]
     },
     "execution_count": 12,
     "metadata": {},
     "output_type": "execute_result"
    },
    {
     "data": {
      "image/png": "[encoded data removed]",
      "text/plain": [
       "<Figure size 432x432 with 1 Axes>"
      ]
     },
     "metadata": {},
     "output_type": "display_data"
    }
   ],
   "source": [
    "# SibSp\n",
    "g = sns.factorplot(data = train_data, x = \"SibSp\", y = \"Survived\", \n",
    "                   kind = \"bar\", size = 6, palette = \"muted\")\n",
    "g.despine(left = True)\n",
    "g.set_ylabels(\"Survival Rate\")"
   ]
  },
  {
   "cell_type": "markdown",
   "metadata": {},
   "source": [
    "less chance to survive if a lot of siblings/spouses on board"
   ]
  },
  {
   "cell_type": "markdown",
   "metadata": {},
   "source": [
    "#### Parch"
   ]
  },
  {
   "cell_type": "code",
   "execution_count": 13,
   "metadata": {},
   "outputs": [
    {
     "data": {
      "text/plain": [
       "<seaborn.axisgrid.FacetGrid at 0x1a81cdfbac8>"
      ]
     },
     "execution_count": 13,
     "metadata": {},
     "output_type": "execute_result"
    },
    {
     "data": {
      "image/png": "[encoded data removed]",
      "text/plain": [
       "<Figure size 432x432 with 1 Axes>"
      ]
     },
     "metadata": {},
     "output_type": "display_data"
    }
   ],
   "source": [
    "# Parch\n",
    "g = sns.factorplot(data = train_data, x = \"Parch\", y = \"Survived\",\n",
    "                   kind = \"bar\", size = 6, palette = \"muted\")\n",
    "g.despine(left = True)\n",
    "g.set_ylabels(\"Survival Rate\")"
   ]
  },
  {
   "cell_type": "markdown",
   "metadata": {},
   "source": [
    "small family have more chance to survive"
   ]
  },
  {
   "cell_type": "markdown",
   "metadata": {},
   "source": [
    "#### Fare"
   ]
  },
  {
   "cell_type": "code",
   "execution_count": 14,
   "metadata": {},
   "outputs": [],
   "source": [
    "# have one missing value\n",
    "# fill with median value, won't make a great impact on data\n",
    "dataset[\"Fare\"] = dataset[\"Fare\"].fillna(dataset[\"Fare\"].median())"
   ]
  },
  {
   "cell_type": "code",
   "execution_count": 15,
   "metadata": {},
   "outputs": [
    {
     "name": "stderr",
     "output_type": "stream",
     "text": [
      "C:\\Users\\wlyip\\Anaconda3\\lib\\site-packages\\matplotlib\\axes\\_axes.py:6462: UserWarning: The 'normed' kwarg is deprecated, and has been replaced by the 'density' kwarg.\n",
      "  warnings.warn(\"The 'normed' kwarg is deprecated, and has been \"\n"
     ]
    },
    {
     "data": {
      "text/plain": [
       "<matplotlib.legend.Legend at 0x1a81cebafd0>"
      ]
     },
     "execution_count": 15,
     "metadata": {},
     "output_type": "execute_result"
    },
    {
     "data": {
      "image/png": "[encoded data removed]",
      "text/plain": [
       "<Figure size 432x288 with 1 Axes>"
      ]
     },
     "metadata": {},
     "output_type": "display_data"
    }
   ],
   "source": [
    "# Fare\n",
    "g = sns.distplot(dataset[\"Fare\"], color = \"m\", \n",
    "                 label = \"Skewness: %.2f\" %(dataset[\"Fare\"].skew()))\n",
    "g.legend(loc = \"best\")"
   ]
  },
  {
   "cell_type": "markdown",
   "metadata": {},
   "source": [
    "highly skewed \n",
    "\n",
    "=> lead to overweight very high values in the model\n",
    "\n",
    "transform with log function to reduce skew"
   ]
  },
  {
   "cell_type": "code",
   "execution_count": 16,
   "metadata": {},
   "outputs": [],
   "source": [
    "# reduce skewness\n",
    "dataset[\"Fare\"] = dataset[\"Fare\"].map(lambda x: np.log(x) if x > 0 else 0)"
   ]
  },
  {
   "cell_type": "code",
   "execution_count": 17,
   "metadata": {},
   "outputs": [
    {
     "name": "stderr",
     "output_type": "stream",
     "text": [
      "C:\\Users\\wlyip\\Anaconda3\\lib\\site-packages\\matplotlib\\axes\\_axes.py:6462: UserWarning: The 'normed' kwarg is deprecated, and has been replaced by the 'density' kwarg.\n",
      "  warnings.warn(\"The 'normed' kwarg is deprecated, and has been \"\n"
     ]
    },
    {
     "data": {
      "text/plain": [
       "<matplotlib.legend.Legend at 0x1a81cfb3828>"
      ]
     },
     "execution_count": 17,
     "metadata": {},
     "output_type": "execute_result"
    },
    {
     "data": {
      "image/png": "[encoded data removed]",
      "text/plain": [
       "<Figure size 432x288 with 1 Axes>"
      ]
     },
     "metadata": {},
     "output_type": "display_data"
    }
   ],
   "source": [
    "g = sns.distplot(dataset[\"Fare\"], color = \"b\", \n",
    "                 label = \"Skewness: %.2f\" %(dataset[\"Fare\"].skew()))\n",
    "g.legend(loc = \"best\")"
   ]
  },
  {
   "cell_type": "markdown",
   "metadata": {},
   "source": [
    "### 2.2 Categorical Values"
   ]
  },
  {
   "cell_type": "markdown",
   "metadata": {},
   "source": [
    "#### Sex"
   ]
  },
  {
   "cell_type": "code",
   "execution_count": 18,
   "metadata": {},
   "outputs": [
    {
     "data": {
      "text/plain": [
       "Text(0,0.5,'Survival Rate')"
      ]
     },
     "execution_count": 18,
     "metadata": {},
     "output_type": "execute_result"
    },
    {
     "data": {
      "image/png": "[encoded data removed]",
      "text/plain": [
       "<Figure size 432x288 with 1 Axes>"
      ]
     },
     "metadata": {},
     "output_type": "display_data"
    }
   ],
   "source": [
    "# Sex\n",
    "g = sns.barplot(data = train_data, x = \"Sex\", y = \"Survived\")\n",
    "g.set_ylabel(\"Survival Rate\")"
   ]
  },
  {
   "cell_type": "markdown",
   "metadata": {},
   "source": [
    "Female has a much more chance to survive\n",
    "\n",
    "=> Sex might play an important role in the prediction"
   ]
  },
  {
   "cell_type": "markdown",
   "metadata": {},
   "source": [
    "#### Pclass"
   ]
  },
  {
   "cell_type": "code",
   "execution_count": 19,
   "metadata": {},
   "outputs": [
    {
     "data": {
      "text/plain": [
       "<seaborn.axisgrid.FacetGrid at 0x1a81d0f7ef0>"
      ]
     },
     "execution_count": 19,
     "metadata": {},
     "output_type": "execute_result"
    },
    {
     "data": {
      "image/png": "[encoded data removed]",
      "text/plain": [
       "<Figure size 432x432 with 1 Axes>"
      ]
     },
     "metadata": {},
     "output_type": "display_data"
    }
   ],
   "source": [
    "# Pclass\n",
    "g = sns.factorplot(data = train_data, x = \"Pclass\", y = \"Survived\",\n",
    "                   kind = \"bar\", size = 6, palette = \"muted\")\n",
    "g.despine(left = True)\n",
    "g.set_ylabels(\"Survival Rate\")"
   ]
  },
  {
   "cell_type": "markdown",
   "metadata": {},
   "source": [
    "Class 1 has the highest prob to survive, then Class 2"
   ]
  },
  {
   "cell_type": "code",
   "execution_count": 20,
   "metadata": {},
   "outputs": [
    {
     "data": {
      "text/plain": [
       "<seaborn.axisgrid.FacetGrid at 0x1a81d091390>"
      ]
     },
     "execution_count": 20,
     "metadata": {},
     "output_type": "execute_result"
    },
    {
     "data": {
      "image/png": "[encoded data removed]",
      "text/plain": [
       "<Figure size 502.5x432 with 1 Axes>"
      ]
     },
     "metadata": {},
     "output_type": "display_data"
    }
   ],
   "source": [
    "# Survived against Pclass by Sex\n",
    "g = sns.factorplot(data = train_data, x = \"Pclass\", y = \"Survived\", hue = \"Sex\",\n",
    "                   kind = \"bar\", size = 6, palette = \"muted\")\n",
    "g.despine(left = True)\n",
    "g.set_ylabels(\"Survival Rate\")"
   ]
  },
  {
   "cell_type": "markdown",
   "metadata": {},
   "source": [
    "the trend is conserved when look at both male and female passengers"
   ]
  },
  {
   "cell_type": "markdown",
   "metadata": {},
   "source": [
    "#### Embarked"
   ]
  },
  {
   "cell_type": "code",
   "execution_count": 21,
   "metadata": {},
   "outputs": [
    {
     "data": {
      "text/plain": [
       "<seaborn.axisgrid.FacetGrid at 0x1a81d1389b0>"
      ]
     },
     "execution_count": 21,
     "metadata": {},
     "output_type": "execute_result"
    },
    {
     "data": {
      "image/png": "[encoded data removed]",
      "text/plain": [
       "<Figure size 432x432 with 1 Axes>"
      ]
     },
     "metadata": {},
     "output_type": "display_data"
    }
   ],
   "source": [
    "# Embarked\n",
    "g = sns.factorplot(data = train_data, x = \"Embarked\", y = \"Survived\",\n",
    "                   kind = \"bar\", size = 6, palette = \"muted\")\n",
    "g.despine(left = True)\n",
    "g.set_ylabels(\"Survival Rate\")"
   ]
  },
  {
   "cell_type": "markdown",
   "metadata": {},
   "source": [
    "survival rate: C > Q > S\n",
    "\n",
    "more first class passengers came from C?"
   ]
  },
  {
   "cell_type": "code",
   "execution_count": 22,
   "metadata": {},
   "outputs": [
    {
     "data": {
      "text/plain": [
       "<seaborn.axisgrid.FacetGrid at 0x1a81d1a32b0>"
      ]
     },
     "execution_count": 22,
     "metadata": {},
     "output_type": "execute_result"
    },
    {
     "data": {
      "image/png": "[encoded data removed]",
      "text/plain": [
       "<Figure size 1296x432 with 3 Axes>"
      ]
     },
     "metadata": {},
     "output_type": "display_data"
    }
   ],
   "source": [
    "# Pclass by Embarked\n",
    "g = sns.factorplot(data = train_data, x = \"Pclass\", col = \"Embarked\",\n",
    "                   kind = \"count\", size = 6, palette = \"muted\")\n",
    "g.despine(left = True)\n",
    "g.set_ylabels(\"Count\")"
   ]
  },
  {
   "cell_type": "markdown",
   "metadata": {},
   "source": [
    "third class is the most frequent for passengers coming from S and Q\n",
    "\n",
    "passengers from C are mostly in the first class "
   ]
  },
  {
   "cell_type": "markdown",
   "metadata": {},
   "source": [
    "## 3. Filling Missing Values"
   ]
  },
  {
   "cell_type": "markdown",
   "metadata": {},
   "source": [
    "### 3.1 Age"
   ]
  },
  {
   "cell_type": "code",
   "execution_count": 23,
   "metadata": {},
   "outputs": [
    {
     "data": {
      "text/plain": [
       "263"
      ]
     },
     "execution_count": 23,
     "metadata": {},
     "output_type": "execute_result"
    }
   ],
   "source": [
    "dataset[\"Age\"].isnull().sum()"
   ]
  },
  {
   "cell_type": "markdown",
   "metadata": {},
   "source": [
    "Age column has 256 missing values in the whole dataset\n",
    "\n",
    "very young passengers have more change to survive, need to keep age feature and to impute the missing values\n",
    "\n",
    "use the most correlated features with Age to fill the missing values"
   ]
  },
  {
   "cell_type": "code",
   "execution_count": 24,
   "metadata": {},
   "outputs": [
    {
     "data": {
      "image/png": "[encoded data removed]",
      "text/plain": [
       "<Figure size 288x288 with 1 Axes>"
      ]
     },
     "metadata": {},
     "output_type": "display_data"
    },
    {
     "data": {
      "image/png": "[encoded data removed]",
      "text/plain": [
       "<Figure size 288x288 with 1 Axes>"
      ]
     },
     "metadata": {},
     "output_type": "display_data"
    },
    {
     "data": {
      "image/png": "[encoded data removed]",
      "text/plain": [
       "<Figure size 288x288 with 1 Axes>"
      ]
     },
     "metadata": {},
     "output_type": "display_data"
    },
    {
     "data": {
      "image/png": "[encoded data removed]",
      "text/plain": [
       "<Figure size 288x288 with 1 Axes>"
      ]
     },
     "metadata": {},
     "output_type": "display_data"
    }
   ],
   "source": [
    "# Explore Age against Sex, Parch, SibSp, Pclass\n",
    "g = sns.factorplot(data = dataset, x = \"Sex\", y = \"Age\", kind = \"box\")\n",
    "g = sns.factorplot(data = dataset, x = \"Parch\", y = \"Age\", kind = \"box\")\n",
    "g = sns.factorplot(data = dataset, x = \"SibSp\", y = \"Age\", kind = \"box\")\n",
    "g = sns.factorplot(data = dataset, x = \"Pclass\", y = \"Age\", kind = \"box\")"
   ]
  },
  {
   "cell_type": "markdown",
   "metadata": {},
   "source": [
    "Sex: seems to have same distribution => not informative to predict Age\n",
    "\n",
    "Parch: more parents/children => older\n",
    "\n",
    "SibSp: more siblings/spouses => younger\n",
    "\n",
    "Pclass: age of class 1 > age of class 2 > age of class 3"
   ]
  },
  {
   "cell_type": "code",
   "execution_count": 25,
   "metadata": {},
   "outputs": [],
   "source": [
    "# convert Sex into categorical value 0 for male and 1 for female\n",
    "dataset[\"Sex\"] = dataset[\"Sex\"].map({\"male\": 0, \"female\": 1})"
   ]
  },
  {
   "cell_type": "code",
   "execution_count": 26,
   "metadata": {},
   "outputs": [
    {
     "data": {
      "image/png": "[encoded data removed]",
      "text/plain": [
       "<Figure size 432x288 with 2 Axes>"
      ]
     },
     "metadata": {},
     "output_type": "display_data"
    }
   ],
   "source": [
    "g = sns.heatmap(dataset[[\"Age\", \"Sex\", \"SibSp\", \"Parch\", \"Pclass\"]].corr(),\n",
    "                cmap = \"coolwarm\", annot = True)"
   ]
  },
  {
   "cell_type": "markdown",
   "metadata": {},
   "source": [
    "Age is not correlated with Sex, but negatively correlated with SibSp, Parch, Pclass\n",
    "\n",
    "correlation of Age with Parch is not conserved to the conclusion of the boxplot above\n",
    "\n",
    "fill Age with the median age of similar rows according to Pclass, Parch, SibSp"
   ]
  },
  {
   "cell_type": "code",
   "execution_count": 27,
   "metadata": {},
   "outputs": [
    {
     "name": "stderr",
     "output_type": "stream",
     "text": [
      "C:\\Users\\wlyip\\Anaconda3\\lib\\site-packages\\pandas\\core\\indexing.py:189: SettingWithCopyWarning: \n",
      "A value is trying to be set on a copy of a slice from a DataFrame\n",
      "\n",
      "See the caveats in the documentation: http://pandas.pydata.org/pandas-docs/stable/indexing.html#indexing-view-versus-copy\n",
      "  self._setitem_with_indexer(indexer, value)\n"
     ]
    }
   ],
   "source": [
    "# find out indices of observations with NaN age values\n",
    "index_NaN_age = list(dataset[\"Age\"][dataset[\"Age\"].isnull()].index)\n",
    "\n",
    "# fill in missing values\n",
    "age_med = dataset[\"Age\"].median()\n",
    "for i in index_NaN_age:\n",
    "    age_pred = dataset[\"Age\"][((dataset[\"Pclass\"] == dataset.iloc[i][\"Pclass\"]) &\n",
    "                              (dataset[\"Parch\"] == dataset.iloc[i][\"Parch\"]) &\n",
    "                              (dataset[\"SibSp\"] == dataset.iloc[i][\"SibSp\"]))].median()\n",
    "    if np.isnan(age_pred):\n",
    "        dataset[\"Age\"].iloc[i] = age_med\n",
    "    else:\n",
    "        dataset[\"Age\"].iloc[i] = age_pred"
   ]
  },
  {
   "cell_type": "code",
   "execution_count": 28,
   "metadata": {},
   "outputs": [
    {
     "data": {
      "image/png": "[encoded data removed]",
      "text/plain": [
       "<Figure size 288x288 with 1 Axes>"
      ]
     },
     "metadata": {},
     "output_type": "display_data"
    },
    {
     "data": {
      "image/png": "[encoded data removed]",
      "text/plain": [
       "<Figure size 288x288 with 1 Axes>"
      ]
     },
     "metadata": {},
     "output_type": "display_data"
    }
   ],
   "source": [
    "g = sns.factorplot(data = train_data, x = \"Survived\", y = \"Age\", kind = \"box\")\n",
    "g = sns.factorplot(data = train_data, x = \"Survived\", y = \"Age\", kind = \"violin\")"
   ]
  },
  {
   "cell_type": "markdown",
   "metadata": {},
   "source": [
    "no difference between median value of age\n",
    "\n",
    "very young passengers have higher survival rate"
   ]
  },
  {
   "cell_type": "markdown",
   "metadata": {},
   "source": [
    "## 4. Feature Engineering"
   ]
  },
  {
   "cell_type": "markdown",
   "metadata": {},
   "source": [
    "### 4.1 Family Size"
   ]
  },
  {
   "cell_type": "code",
   "execution_count": 29,
   "metadata": {},
   "outputs": [],
   "source": [
    "dataset[\"family_size\"] = dataset[\"Parch\"] + dataset[\"SibSp\"] + 1"
   ]
  },
  {
   "cell_type": "code",
   "execution_count": 30,
   "metadata": {},
   "outputs": [
    {
     "data": {
      "text/plain": [
       "<seaborn.axisgrid.FacetGrid at 0x1a81d84f400>"
      ]
     },
     "execution_count": 30,
     "metadata": {},
     "output_type": "execute_result"
    },
    {
     "data": {
      "image/png": "[encoded data removed]",
      "text/plain": [
       "<Figure size 288x288 with 1 Axes>"
      ]
     },
     "metadata": {},
     "output_type": "display_data"
    }
   ],
   "source": [
    "g = sns.factorplot(data = dataset, x = \"family_size\", y = \"Survived\")\n",
    "g.set_ylabels(\"Survival Rate\")"
   ]
  },
  {
   "cell_type": "markdown",
   "metadata": {},
   "source": [
    "less survival rate for large family"
   ]
  },
  {
   "cell_type": "code",
   "execution_count": 31,
   "metadata": {},
   "outputs": [],
   "source": [
    "# drop Parch, SibSp\n",
    "dataset.drop(labels = [\"Parch\", \"SibSp\"], axis = 1, inplace = True)"
   ]
  },
  {
   "cell_type": "markdown",
   "metadata": {},
   "source": [
    "#### 4.2 Name/ Title"
   ]
  },
  {
   "cell_type": "code",
   "execution_count": 32,
   "metadata": {},
   "outputs": [
    {
     "data": {
      "text/plain": [
       "0                              Braund, Mr. Owen Harris\n",
       "1    Cumings, Mrs. John Bradley (Florence Briggs Th...\n",
       "2                               Heikkinen, Miss. Laina\n",
       "3         Futrelle, Mrs. Jacques Heath (Lily May Peel)\n",
       "4                             Allen, Mr. William Henry\n",
       "Name: Name, dtype: object"
      ]
     },
     "execution_count": 32,
     "metadata": {},
     "output_type": "execute_result"
    }
   ],
   "source": [
    "# take a look at Name\n",
    "dataset[\"Name\"].head()"
   ]
  },
  {
   "cell_type": "markdown",
   "metadata": {},
   "source": [
    "The titles is just after the \", \"\n",
    "\n",
    "Let's split the Name and Extract the tilte"
   ]
  },
  {
   "cell_type": "code",
   "execution_count": 33,
   "metadata": {},
   "outputs": [
    {
     "data": {
      "text/plain": [
       "Mr          757\n",
       "Miss        260\n",
       "Mrs         197\n",
       "Master       61\n",
       "Dr            8\n",
       "Rev           8\n",
       "Col           4\n",
       "Major         2\n",
       "Ms            2\n",
       "Mlle          2\n",
       "Sir           1\n",
       "Mme           1\n",
       "Dona          1\n",
       "Don           1\n",
       "Capt          1\n",
       "th            1\n",
       "Lady          1\n",
       "Jonkheer      1\n",
       "Name: 0, dtype: int64"
      ]
     },
     "execution_count": 33,
     "metadata": {},
     "output_type": "execute_result"
    }
   ],
   "source": [
    "# get all titles from names\n",
    "dataset_title = dataset[\"Name\"].str.split(\", \", expand = True)[1]\n",
    "dataset_title = dataset_title.str.split(\". \", expand = True)[0]\n",
    "\n",
    "dataset_title.value_counts()"
   ]
  },
  {
   "cell_type": "code",
   "execution_count": 34,
   "metadata": {},
   "outputs": [
    {
     "name": "stdout",
     "output_type": "stream",
     "text": [
      "['Capt' 'Col' 'Don' 'Dona' 'Dr' 'Jonkheer' 'Lady' 'Major' 'Mlle' 'Mme'\n",
      " 'Ms' 'Rev' 'Sir' 'th']\n"
     ]
    }
   ],
   "source": [
    "# find out titles with frequency < 10\n",
    "vals, counts = np.unique(dataset_title, return_counts = True)\n",
    "rare_title = vals[counts < 10]\n",
    "\n",
    "print (rare_title)"
   ]
  },
  {
   "cell_type": "code",
   "execution_count": 35,
   "metadata": {},
   "outputs": [],
   "source": [
    "# create a new feature title\n",
    "dataset[\"title\"] = dataset_title\n",
    "\n",
    "# convert all titles to \"Mr\", \"Miss\", \"Mrs\", \"Master\", \"Rare\"\n",
    "dataset[\"title\"] = dataset[\"title\"].replace(rare_title, \"Rare\")\n",
    "\n",
    "# convert title to categorical value\n",
    "dataset[\"title\"] = dataset[\"title\"].map({\"Mr\": 0, \"Miss\": 1, \"Mrs\": 2,\n",
    "                                         \"Master\": 3, \"Rare\": 4})\n",
    "dataset[\"title\"] = dataset[\"title\"].astype(int)"
   ]
  },
  {
   "cell_type": "code",
   "execution_count": 36,
   "metadata": {},
   "outputs": [
    {
     "data": {
      "text/plain": [
       "[Text(0,0,'Mr'),\n",
       " Text(0,0,'Miss'),\n",
       " Text(0,0,'Mrs'),\n",
       " Text(0,0,'Master'),\n",
       " Text(0,0,'Rare')]"
      ]
     },
     "execution_count": 36,
     "metadata": {},
     "output_type": "execute_result"
    },
    {
     "data": {
      "image/png": "[encoded data removed]",
      "text/plain": [
       "<Figure size 432x288 with 1 Axes>"
      ]
     },
     "metadata": {},
     "output_type": "display_data"
    }
   ],
   "source": [
    "g = sns.countplot(dataset[\"title\"])\n",
    "g.set_xticklabels([\"Mr\", \"Miss\", \"Mrs\", \"Master\", \"Rare\"])"
   ]
  },
  {
   "cell_type": "code",
   "execution_count": 37,
   "metadata": {},
   "outputs": [
    {
     "data": {
      "text/plain": [
       "<seaborn.axisgrid.FacetGrid at 0x1a81ca17da0>"
      ]
     },
     "execution_count": 37,
     "metadata": {},
     "output_type": "execute_result"
    },
    {
     "data": {
      "image/png": "[encoded data removed]",
      "text/plain": [
       "<Figure size 288x288 with 1 Axes>"
      ]
     },
     "metadata": {},
     "output_type": "display_data"
    }
   ],
   "source": [
    "g = sns.factorplot(data = dataset, x = \"title\", y = \"Survived\", kind = \"bar\")\n",
    "g.set_xticklabels([\"Mr\", \"Miss\", \"Mrs\", \"Master\", \"Rare\"])\n",
    "g.set_ylabels(\"Survival Rate\")"
   ]
  },
  {
   "cell_type": "markdown",
   "metadata": {},
   "source": [
    "Women has the highest survival rate"
   ]
  },
  {
   "cell_type": "code",
   "execution_count": 38,
   "metadata": {},
   "outputs": [],
   "source": [
    "# Drop Name column\n",
    "dataset.drop(labels = [\"Name\"], axis = 1, inplace = True)"
   ]
  },
  {
   "cell_type": "markdown",
   "metadata": {},
   "source": [
    "#### 4.3 Cabin"
   ]
  },
  {
   "cell_type": "code",
   "execution_count": 39,
   "metadata": {},
   "outputs": [
    {
     "data": {
      "text/plain": [
       "0     NaN\n",
       "1     C85\n",
       "2     NaN\n",
       "3    C123\n",
       "4     NaN\n",
       "Name: Cabin, dtype: object"
      ]
     },
     "execution_count": 39,
     "metadata": {},
     "output_type": "execute_result"
    }
   ],
   "source": [
    "dataset[\"Cabin\"].head()"
   ]
  },
  {
   "cell_type": "code",
   "execution_count": 40,
   "metadata": {},
   "outputs": [
    {
     "data": {
      "text/plain": [
       "count             295\n",
       "unique            186\n",
       "top       C23 C25 C27\n",
       "freq                6\n",
       "Name: Cabin, dtype: object"
      ]
     },
     "execution_count": 40,
     "metadata": {},
     "output_type": "execute_result"
    }
   ],
   "source": [
    "dataset[\"Cabin\"].describe()"
   ]
  },
  {
   "cell_type": "code",
   "execution_count": 41,
   "metadata": {},
   "outputs": [
    {
     "data": {
      "text/plain": [
       "1014"
      ]
     },
     "execution_count": 41,
     "metadata": {},
     "output_type": "execute_result"
    }
   ],
   "source": [
    "dataset[\"Cabin\"].isnull().sum()"
   ]
  },
  {
   "cell_type": "markdown",
   "metadata": {},
   "source": [
    "too many missing values"
   ]
  },
  {
   "cell_type": "code",
   "execution_count": 42,
   "metadata": {},
   "outputs": [],
   "source": [
    "# remove Cabin\n",
    "dataset.drop(labels = [\"Cabin\"], axis = 1, inplace = True)"
   ]
  },
  {
   "cell_type": "markdown",
   "metadata": {},
   "source": [
    "#### 4.4 Ticket"
   ]
  },
  {
   "cell_type": "code",
   "execution_count": 43,
   "metadata": {},
   "outputs": [
    {
     "data": {
      "text/plain": [
       "0           A/5 21171\n",
       "1            PC 17599\n",
       "2    STON/O2. 3101282\n",
       "3              113803\n",
       "4              373450\n",
       "Name: Ticket, dtype: object"
      ]
     },
     "execution_count": 43,
     "metadata": {},
     "output_type": "execute_result"
    }
   ],
   "source": [
    "dataset[\"Ticket\"].head()"
   ]
  },
  {
   "cell_type": "code",
   "execution_count": 44,
   "metadata": {},
   "outputs": [],
   "source": [
    "# remove ticket\n",
    "dataset.drop(labels = [\"Ticket\"], axis = 1, inplace = True)"
   ]
  },
  {
   "cell_type": "markdown",
   "metadata": {},
   "source": [
    "#### Embarked"
   ]
  },
  {
   "cell_type": "code",
   "execution_count": 45,
   "metadata": {},
   "outputs": [],
   "source": [
    "# fill missing value to \"S\"\n",
    "dataset.loc[dataset[\"Embarked\"].isnull(), \"Embarked\"] = \"S\"\n",
    "\n",
    "# convert Embarked into categorical values\n",
    "dataset[\"Embarked\"] = dataset[\"Embarked\"].map({\"C\": 0, \"Q\": 1, \"S\": 2})\n",
    "\n",
    "dataset[\"Embarked\"] = dataset[\"Embarked\"].astype(int)"
   ]
  },
  {
   "cell_type": "code",
   "execution_count": 46,
   "metadata": {},
   "outputs": [],
   "source": [
    "passengerId = dataset[\"PassengerId\"]\n",
    "# drop PassengerId\n",
    "dataset.drop(labels = [\"PassengerId\"], axis = 1, inplace = True)"
   ]
  },
  {
   "cell_type": "code",
   "execution_count": 47,
   "metadata": {},
   "outputs": [
    {
     "data": {
      "text/html": [
       "<div>\n",
       "<style scoped>\n",
       "    .dataframe tbody tr th:only-of-type {\n",
       "        vertical-align: middle;\n",
       "    }\n",
       "\n",
       "    .dataframe tbody tr th {\n",
       "        vertical-align: top;\n",
       "    }\n",
       "\n",
       "    .dataframe thead th {\n",
       "        text-align: right;\n",
       "    }\n",
       "</style>\n",
       "<table border=\"1\" class=\"dataframe\">\n",
       "  <thead>\n",
       "    <tr style=\"text-align: right;\">\n",
       "      <th></th>\n",
       "      <th>Age</th>\n",
       "      <th>Embarked</th>\n",
       "      <th>Fare</th>\n",
       "      <th>Pclass</th>\n",
       "      <th>Sex</th>\n",
       "      <th>Survived</th>\n",
       "      <th>family_size</th>\n",
       "      <th>title</th>\n",
       "    </tr>\n",
       "  </thead>\n",
       "  <tbody>\n",
       "    <tr>\n",
       "      <th>0</th>\n",
       "      <td>22.0</td>\n",
       "      <td>2</td>\n",
       "      <td>1.981001</td>\n",
       "      <td>3</td>\n",
       "      <td>0</td>\n",
       "      <td>0.0</td>\n",
       "      <td>2</td>\n",
       "      <td>0</td>\n",
       "    </tr>\n",
       "    <tr>\n",
       "      <th>1</th>\n",
       "      <td>38.0</td>\n",
       "      <td>0</td>\n",
       "      <td>4.266662</td>\n",
       "      <td>1</td>\n",
       "      <td>1</td>\n",
       "      <td>1.0</td>\n",
       "      <td>2</td>\n",
       "      <td>2</td>\n",
       "    </tr>\n",
       "    <tr>\n",
       "      <th>2</th>\n",
       "      <td>26.0</td>\n",
       "      <td>2</td>\n",
       "      <td>2.070022</td>\n",
       "      <td>3</td>\n",
       "      <td>1</td>\n",
       "      <td>1.0</td>\n",
       "      <td>1</td>\n",
       "      <td>1</td>\n",
       "    </tr>\n",
       "    <tr>\n",
       "      <th>3</th>\n",
       "      <td>35.0</td>\n",
       "      <td>2</td>\n",
       "      <td>3.972177</td>\n",
       "      <td>1</td>\n",
       "      <td>1</td>\n",
       "      <td>1.0</td>\n",
       "      <td>2</td>\n",
       "      <td>2</td>\n",
       "    </tr>\n",
       "    <tr>\n",
       "      <th>4</th>\n",
       "      <td>35.0</td>\n",
       "      <td>2</td>\n",
       "      <td>2.085672</td>\n",
       "      <td>3</td>\n",
       "      <td>0</td>\n",
       "      <td>0.0</td>\n",
       "      <td>1</td>\n",
       "      <td>0</td>\n",
       "    </tr>\n",
       "  </tbody>\n",
       "</table>\n",
       "</div>"
      ],
      "text/plain": [
       "    Age  Embarked      Fare  Pclass  Sex  Survived  family_size  title\n",
       "0  22.0         2  1.981001       3    0       0.0            2      0\n",
       "1  38.0         0  4.266662       1    1       1.0            2      2\n",
       "2  26.0         2  2.070022       3    1       1.0            1      1\n",
       "3  35.0         2  3.972177       1    1       1.0            2      2\n",
       "4  35.0         2  2.085672       3    0       0.0            1      0"
      ]
     },
     "execution_count": 47,
     "metadata": {},
     "output_type": "execute_result"
    }
   ],
   "source": [
    "dataset.head()"
   ]
  },
  {
   "cell_type": "markdown",
   "metadata": {},
   "source": [
    "## 5. Modelling"
   ]
  },
  {
   "cell_type": "code",
   "execution_count": 48,
   "metadata": {},
   "outputs": [
    {
     "name": "stderr",
     "output_type": "stream",
     "text": [
      "C:\\Users\\wlyip\\Anaconda3\\lib\\site-packages\\pandas\\core\\frame.py:3694: SettingWithCopyWarning: \n",
      "A value is trying to be set on a copy of a slice from a DataFrame\n",
      "\n",
      "See the caveats in the documentation: http://pandas.pydata.org/pandas-docs/stable/indexing.html#indexing-view-versus-copy\n",
      "  errors=errors)\n"
     ]
    }
   ],
   "source": [
    "# separate train set and test set\n",
    "train = dataset[:train_len]\n",
    "test = dataset[train_len:]\n",
    "test.drop(labels = [\"Survived\"], axis = 1, inplace = True)"
   ]
  },
  {
   "cell_type": "code",
   "execution_count": 49,
   "metadata": {},
   "outputs": [],
   "source": [
    "# separate features and labels of train set\n",
    "Y_train = train[\"Survived\"].astype(int)\n",
    "X_train = train.drop(labels = [\"Survived\"], axis = 1)"
   ]
  },
  {
   "cell_type": "markdown",
   "metadata": {},
   "source": [
    "#### 5.1 Cross Validation"
   ]
  },
  {
   "cell_type": "code",
   "execution_count": 50,
   "metadata": {},
   "outputs": [],
   "source": [
    "from sklearn.ensemble import RandomForestClassifier, AdaBoostClassifier, GradientBoostingClassifier, ExtraTreesClassifier, VotingClassifier\n",
    "from sklearn.discriminant_analysis import LinearDiscriminantAnalysis\n",
    "from sklearn.linear_model import LogisticRegression\n",
    "from sklearn.neighbors import KNeighborsClassifier\n",
    "from sklearn.tree import DecisionTreeClassifier\n",
    "from sklearn.neural_network import MLPClassifier\n",
    "from sklearn.svm import SVC\n",
    "from sklearn.model_selection import GridSearchCV, cross_val_score, StratifiedKFold, learning_curve"
   ]
  },
  {
   "cell_type": "code",
   "execution_count": 51,
   "metadata": {},
   "outputs": [],
   "source": [
    "kfold = StratifiedKFold(n_splits = 10)"
   ]
  },
  {
   "cell_type": "code",
   "execution_count": 52,
   "metadata": {},
   "outputs": [
    {
     "data": {
      "image/png": "[encoded data removed]",
      "text/plain": [
       "<Figure size 432x288 with 1 Axes>"
      ]
     },
     "metadata": {},
     "output_type": "display_data"
    }
   ],
   "source": [
    "# Modeling step Test differents algorithms \n",
    "classifiers = []\n",
    "classifiers.append(SVC())\n",
    "classifiers.append(DecisionTreeClassifier())\n",
    "classifiers.append(AdaBoostClassifier(DecisionTreeClassifier(), learning_rate=0.1))\n",
    "classifiers.append(RandomForestClassifier())\n",
    "classifiers.append(ExtraTreesClassifier())\n",
    "classifiers.append(GradientBoostingClassifier())\n",
    "classifiers.append(MLPClassifier())\n",
    "classifiers.append(KNeighborsClassifier())\n",
    "classifiers.append(LogisticRegression())\n",
    "classifiers.append(LinearDiscriminantAnalysis())\n",
    "\n",
    "cv_results = []\n",
    "for classifier in classifiers :\n",
    "    cv_results.append(cross_val_score(classifier, X_train, y = Y_train, scoring = \"accuracy\", cv = kfold))\n",
    "\n",
    "cv_means = []\n",
    "cv_std = []\n",
    "for cv_result in cv_results:\n",
    "    cv_means.append(cv_result.mean())\n",
    "    cv_std.append(cv_result.std())\n",
    "\n",
    "cv_res = pd.DataFrame({\"CrossValMeans\": cv_means,\"CrossValerrors\": cv_std,\n",
    "                       \"Algorithm\": [\"SVC\",\"DecisionTree\",\"AdaBoost\",\n",
    "                       \"RandomForest\", \"ExtraTrees\", \"GradientBoosting\",\n",
    "                       \"MultipleLayerPerceptron\", \"KNeighboors\",\n",
    "                       \"LogisticRegression\", \"LinearDiscriminantAnalysis\"]})\n",
    "\n",
    "g = sns.barplot(\"CrossValMeans\",\"Algorithm\",data = cv_res, palette=\"Set3\",orient = \"h\",**{'xerr':cv_std})\n",
    "g.set_xlabel(\"Mean Accuracy\")\n",
    "g = g.set_title(\"Cross validation scores\")"
   ]
  },
  {
   "cell_type": "code",
   "execution_count": 53,
   "metadata": {},
   "outputs": [
    {
     "data": {
      "text/html": [
       "<div>\n",
       "<style scoped>\n",
       "    .dataframe tbody tr th:only-of-type {\n",
       "        vertical-align: middle;\n",
       "    }\n",
       "\n",
       "    .dataframe tbody tr th {\n",
       "        vertical-align: top;\n",
       "    }\n",
       "\n",
       "    .dataframe thead th {\n",
       "        text-align: right;\n",
       "    }\n",
       "</style>\n",
       "<table border=\"1\" class=\"dataframe\">\n",
       "  <thead>\n",
       "    <tr style=\"text-align: right;\">\n",
       "      <th></th>\n",
       "      <th>CrossValMeans</th>\n",
       "      <th>CrossValerrors</th>\n",
       "      <th>Algorithm</th>\n",
       "    </tr>\n",
       "  </thead>\n",
       "  <tbody>\n",
       "    <tr>\n",
       "      <th>0</th>\n",
       "      <td>0.821645</td>\n",
       "      <td>0.048727</td>\n",
       "      <td>SVC</td>\n",
       "    </tr>\n",
       "    <tr>\n",
       "      <th>1</th>\n",
       "      <td>0.786788</td>\n",
       "      <td>0.051318</td>\n",
       "      <td>DecisionTree</td>\n",
       "    </tr>\n",
       "    <tr>\n",
       "      <th>2</th>\n",
       "      <td>0.789059</td>\n",
       "      <td>0.042864</td>\n",
       "      <td>AdaBoost</td>\n",
       "    </tr>\n",
       "    <tr>\n",
       "      <th>3</th>\n",
       "      <td>0.801469</td>\n",
       "      <td>0.049410</td>\n",
       "      <td>RandomForest</td>\n",
       "    </tr>\n",
       "    <tr>\n",
       "      <th>4</th>\n",
       "      <td>0.795776</td>\n",
       "      <td>0.044304</td>\n",
       "      <td>ExtraTrees</td>\n",
       "    </tr>\n",
       "    <tr>\n",
       "      <th>5</th>\n",
       "      <td>0.837337</td>\n",
       "      <td>0.042700</td>\n",
       "      <td>GradientBoosting</td>\n",
       "    </tr>\n",
       "    <tr>\n",
       "      <th>6</th>\n",
       "      <td>0.791369</td>\n",
       "      <td>0.046557</td>\n",
       "      <td>MultipleLayerPerceptron</td>\n",
       "    </tr>\n",
       "    <tr>\n",
       "      <th>7</th>\n",
       "      <td>0.789084</td>\n",
       "      <td>0.051506</td>\n",
       "      <td>KNeighboors</td>\n",
       "    </tr>\n",
       "    <tr>\n",
       "      <th>8</th>\n",
       "      <td>0.814865</td>\n",
       "      <td>0.034975</td>\n",
       "      <td>LogisticRegression</td>\n",
       "    </tr>\n",
       "    <tr>\n",
       "      <th>9</th>\n",
       "      <td>0.804702</td>\n",
       "      <td>0.028574</td>\n",
       "      <td>LinearDiscriminantAnalysis</td>\n",
       "    </tr>\n",
       "  </tbody>\n",
       "</table>\n",
       "</div>"
      ],
      "text/plain": [
       "   CrossValMeans  CrossValerrors                   Algorithm\n",
       "0       0.821645        0.048727                         SVC\n",
       "1       0.786788        0.051318                DecisionTree\n",
       "2       0.789059        0.042864                    AdaBoost\n",
       "3       0.801469        0.049410                RandomForest\n",
       "4       0.795776        0.044304                  ExtraTrees\n",
       "5       0.837337        0.042700            GradientBoosting\n",
       "6       0.791369        0.046557     MultipleLayerPerceptron\n",
       "7       0.789084        0.051506                 KNeighboors\n",
       "8       0.814865        0.034975          LogisticRegression\n",
       "9       0.804702        0.028574  LinearDiscriminantAnalysis"
      ]
     },
     "execution_count": 53,
     "metadata": {},
     "output_type": "execute_result"
    }
   ],
   "source": [
    "cv_res"
   ]
  },
  {
   "cell_type": "markdown",
   "metadata": {},
   "source": [
    "Gradient Boosting has the highest accuracy\n",
    "\n",
    "choose SVC, RandomForest, GradientBoosting, LogisticRegression, LinearDiscriminationAnalysis for the ensemble modeling"
   ]
  },
  {
   "cell_type": "markdown",
   "metadata": {},
   "source": [
    "### 5.2 Hyperparameter tunning"
   ]
  },
  {
   "cell_type": "markdown",
   "metadata": {},
   "source": [
    "#### SVC"
   ]
  },
  {
   "cell_type": "code",
   "execution_count": 54,
   "metadata": {},
   "outputs": [
    {
     "name": "stdout",
     "output_type": "stream",
     "text": [
      "Fitting 10 folds for each of 24 candidates, totalling 240 fits\n"
     ]
    },
    {
     "name": "stderr",
     "output_type": "stream",
     "text": [
      "[Parallel(n_jobs=1)]: Done 240 out of 240 | elapsed:   41.4s finished\n"
     ]
    },
    {
     "data": {
      "text/plain": [
       "0.8383838383838383"
      ]
     },
     "execution_count": 54,
     "metadata": {},
     "output_type": "execute_result"
    }
   ],
   "source": [
    "# SVC\n",
    "SVMC = SVC(probability = True)\n",
    "svc_param_grid = {\"kernel\": [\"rbf\"],\n",
    "                  \"gamma\": [0.001, 0.01, 0.1, 1],\n",
    "                  \"C\": [1, 10, 50, 100, 200, 300] }\n",
    "\n",
    "gsSVMC = GridSearchCV(SVMC, param_grid = svc_param_grid, cv = kfold,\n",
    "                     scoring = \"accuracy\", verbose = 1)\n",
    "\n",
    "gsSVMC.fit(X_train, Y_train)\n",
    "\n",
    "SVMC_best = gsSVMC.best_estimator_\n",
    "\n",
    "gsSVMC.best_score_"
   ]
  },
  {
   "cell_type": "markdown",
   "metadata": {},
   "source": [
    "#### RandomForest"
   ]
  },
  {
   "cell_type": "code",
   "execution_count": 55,
   "metadata": {},
   "outputs": [
    {
     "name": "stdout",
     "output_type": "stream",
     "text": [
      "Fitting 10 folds for each of 54 candidates, totalling 540 fits\n"
     ]
    },
    {
     "name": "stderr",
     "output_type": "stream",
     "text": [
      "[Parallel(n_jobs=1)]: Done 540 out of 540 | elapsed:  3.2min finished\n"
     ]
    },
    {
     "data": {
      "text/plain": [
       "0.8406285072951739"
      ]
     },
     "execution_count": 55,
     "metadata": {},
     "output_type": "execute_result"
    }
   ],
   "source": [
    "# random forest\n",
    "RFC = RandomForestClassifier()\n",
    "rf_param_grid = {\"max_depth\": [None],\n",
    "              \"max_features\": [1, 3, 7],\n",
    "              \"min_samples_split\": [2, 3, 10],\n",
    "              \"min_samples_leaf\": [1, 3, 10],\n",
    "              \"bootstrap\": [False],\n",
    "              \"n_estimators\" :[100,300],\n",
    "              \"criterion\": [\"gini\"]}\n",
    "\n",
    "gsRFC = GridSearchCV(RFC, param_grid = rf_param_grid, cv = kfold, \n",
    "                     scoring = \"accuracy\", verbose = 1)\n",
    "\n",
    "gsRFC.fit(X_train,Y_train)\n",
    "\n",
    "RFC_best = gsRFC.best_estimator_\n",
    "\n",
    "gsRFC.best_score_"
   ]
  },
  {
   "cell_type": "markdown",
   "metadata": {},
   "source": [
    "#### Gradient Boosting"
   ]
  },
  {
   "cell_type": "code",
   "execution_count": 56,
   "metadata": {},
   "outputs": [
    {
     "name": "stdout",
     "output_type": "stream",
     "text": [
      "Fitting 10 folds for each of 72 candidates, totalling 720 fits\n"
     ]
    },
    {
     "name": "stderr",
     "output_type": "stream",
     "text": [
      "[Parallel(n_jobs=1)]: Done 720 out of 720 | elapsed:  1.1min finished\n"
     ]
    },
    {
     "data": {
      "text/plain": [
       "0.8439955106621774"
      ]
     },
     "execution_count": 56,
     "metadata": {},
     "output_type": "execute_result"
    }
   ],
   "source": [
    "# gradient boosting\n",
    "GBC = GradientBoostingClassifier()\n",
    "gb_param_grid = {'loss' : [\"deviance\"],\n",
    "              'n_estimators' : [100, 200, 300],\n",
    "              'learning_rate': [0.1, 0.05, 0.01],\n",
    "              'max_depth': [4, 8],\n",
    "              'min_samples_leaf': [100, 150],\n",
    "              'max_features': [0.3, 0.1] \n",
    "              }\n",
    "\n",
    "gsGBC = GridSearchCV(GBC, param_grid = gb_param_grid, cv = kfold, \n",
    "                     scoring = \"accuracy\", verbose = 1)\n",
    "\n",
    "gsGBC.fit(X_train,Y_train)\n",
    "\n",
    "GBC_best = gsGBC.best_estimator_\n",
    "\n",
    "gsGBC.best_score_"
   ]
  },
  {
   "cell_type": "markdown",
   "metadata": {},
   "source": [
    "#### Logistic Regression"
   ]
  },
  {
   "cell_type": "code",
   "execution_count": 57,
   "metadata": {},
   "outputs": [
    {
     "name": "stdout",
     "output_type": "stream",
     "text": [
      "Fitting 10 folds for each of 10 candidates, totalling 100 fits\n"
     ]
    },
    {
     "name": "stderr",
     "output_type": "stream",
     "text": [
      "[Parallel(n_jobs=1)]: Done 100 out of 100 | elapsed:    0.3s finished\n"
     ]
    },
    {
     "data": {
      "text/plain": [
       "0.8226711560044894"
      ]
     },
     "execution_count": 57,
     "metadata": {},
     "output_type": "execute_result"
    }
   ],
   "source": [
    "# logistic regression\n",
    "LRC = LogisticRegression()\n",
    "lr_param_grid = {\"penalty\": [\"l1\", \"l2\"],\n",
    "                 \"C\": [1, 0.5, 0.1, 0.05, 0.01]}\n",
    "\n",
    "gsLRC = GridSearchCV(LRC, param_grid = lr_param_grid, cv = kfold, \n",
    "                     scoring = \"accuracy\", verbose = 1)\n",
    "\n",
    "gsLRC.fit(X_train,Y_train)\n",
    "\n",
    "LRC_best = gsLRC.best_estimator_\n",
    "\n",
    "gsLRC.best_score_"
   ]
  },
  {
   "cell_type": "markdown",
   "metadata": {},
   "source": [
    "#### Linear Discrimination Analysis"
   ]
  },
  {
   "cell_type": "code",
   "execution_count": 58,
   "metadata": {},
   "outputs": [
    {
     "name": "stderr",
     "output_type": "stream",
     "text": [
      "[Parallel(n_jobs=1)]: Done  40 out of  40 | elapsed:    0.1s finished\n"
     ]
    },
    {
     "name": "stdout",
     "output_type": "stream",
     "text": [
      "Fitting 10 folds for each of 4 candidates, totalling 40 fits\n"
     ]
    },
    {
     "data": {
      "text/plain": [
       "0.8069584736251403"
      ]
     },
     "execution_count": 58,
     "metadata": {},
     "output_type": "execute_result"
    }
   ],
   "source": [
    "# Linear Discrimination Analysis\n",
    "LDAC = LinearDiscriminantAnalysis()\n",
    "lda_param_grid = {\"solver\": [\"lsqr\", \"eigen\"],\n",
    "                  \"shrinkage\": [None, \"auto\"],\n",
    "                  }\n",
    "\n",
    "gsLDAC = GridSearchCV(LDAC, param_grid = lda_param_grid, cv = kfold, \n",
    "                     scoring = \"accuracy\", verbose = 1)\n",
    "\n",
    "gsLDAC.fit(X_train,Y_train)\n",
    "\n",
    "LDAC_best = gsLDAC.best_estimator_\n",
    "\n",
    "gsLDAC.best_score_"
   ]
  },
  {
   "cell_type": "markdown",
   "metadata": {},
   "source": [
    "### 5.3 Learning Curve"
   ]
  },
  {
   "cell_type": "code",
   "execution_count": 59,
   "metadata": {},
   "outputs": [
    {
     "data": {
      "image/png": "[encoded data removed]",
      "text/plain": [
       "<Figure size 432x288 with 1 Axes>"
      ]
     },
     "metadata": {},
     "output_type": "display_data"
    },
    {
     "data": {
      "image/png": "[encoded data removed]",
      "text/plain": [
       "<Figure size 432x288 with 1 Axes>"
      ]
     },
     "metadata": {},
     "output_type": "display_data"
    },
    {
     "data": {
      "image/png": "[encoded data removed]",
      "text/plain": [
       "<Figure size 432x288 with 1 Axes>"
      ]
     },
     "metadata": {},
     "output_type": "display_data"
    },
    {
     "data": {
      "image/png": "[encoded data removed]",
      "text/plain": [
       "<Figure size 432x288 with 1 Axes>"
      ]
     },
     "metadata": {},
     "output_type": "display_data"
    },
    {
     "data": {
      "image/png": "[encoded data removed]",
      "text/plain": [
       "<Figure size 432x288 with 1 Axes>"
      ]
     },
     "metadata": {},
     "output_type": "display_data"
    }
   ],
   "source": [
    "def plot_learning_curve(estimator, title, X, y, ylim = None, cv = None, \n",
    "                        train_sizes = np.linspace(.1, 1.0, 5)):\n",
    "    \"\"\"Generate a simple plot of the test and training learning curve\"\"\"\n",
    "    plt.figure()\n",
    "    plt.title(title)\n",
    "    if ylim is not None:\n",
    "        plt.ylim(*ylim)\n",
    "    plt.xlabel(\"Training examples\")\n",
    "    plt.ylabel(\"Score\")\n",
    "    train_sizes, train_scores, test_scores = learning_curve(\n",
    "        estimator, X, y, cv = cv, train_sizes = train_sizes)\n",
    "    train_scores_mean = np.mean(train_scores, axis=1)\n",
    "    train_scores_std = np.std(train_scores, axis=1)\n",
    "    test_scores_mean = np.mean(test_scores, axis=1)\n",
    "    test_scores_std = np.std(test_scores, axis=1)\n",
    "    plt.grid()\n",
    "\n",
    "    plt.fill_between(train_sizes, train_scores_mean - train_scores_std,\n",
    "                     train_scores_mean + train_scores_std, alpha = 0.1,\n",
    "                     color = \"r\")\n",
    "    plt.fill_between(train_sizes, test_scores_mean - test_scores_std,\n",
    "                     test_scores_mean + test_scores_std, alpha = 0.1, color = \"g\")\n",
    "    plt.plot(train_sizes, train_scores_mean, 'o-', color = \"r\",\n",
    "             label = \"Training score\")\n",
    "    plt.plot(train_sizes, test_scores_mean, 'o-', color = \"g\",\n",
    "             label = \"Cross-validation score\")\n",
    "\n",
    "    plt.legend(loc = \"best\")\n",
    "    return plt\n",
    "\n",
    "g = plot_learning_curve(gsSVMC.best_estimator_,\"SVC mearning curves\", X_train, Y_train, cv = kfold)\n",
    "g = plot_learning_curve(gsRFC.best_estimator_,\"Random Forest learning curves\",\n",
    "                        X_train, Y_train, cv = kfold)\n",
    "g = plot_learning_curve(gsGBC.best_estimator_,\"Gradient Boosting learning curves\",\n",
    "                        X_train, Y_train, cv = kfold)\n",
    "g = plot_learning_curve(gsLRC.best_estimator_,\"Logistic Regression learning curves\",\n",
    "                        X_train, Y_train, cv = kfold)\n",
    "g = plot_learning_curve(gsLDAC.best_estimator_,\"Linear Discrimination Analysis learning curves\",\n",
    "                        X_train, Y_train, cv = kfold)"
   ]
  },
  {
   "cell_type": "markdown",
   "metadata": {},
   "source": [
    "Random Forest is overfitting, should perform better if more training examples"
   ]
  },
  {
   "cell_type": "code",
   "execution_count": 60,
   "metadata": {},
   "outputs": [
    {
     "data": {
      "image/png": "[encoded data removed]",
      "text/plain": [
       "<Figure size 432x288 with 2 Axes>"
      ]
     },
     "metadata": {},
     "output_type": "display_data"
    }
   ],
   "source": [
    "test_Survived_SVMC = pd.Series(SVMC_best.predict(test), name=\"SVC\")\n",
    "test_Survived_RFC = pd.Series(RFC_best.predict(test), name=\"RF\")\n",
    "test_Survived_GBC = pd.Series(GBC_best.predict(test), name=\"GB\")\n",
    "test_Survived_LRC = pd.Series(LRC_best.predict(test), name=\"LR\")\n",
    "test_Survived_LDAC = pd.Series(LDAC_best.predict(test), name=\"LDAC\")\n",
    "\n",
    "\n",
    "# Concatenate all classifier results\n",
    "ensemble_results = pd.concat([test_Survived_SVMC, test_Survived_RFC,\n",
    "                              test_Survived_GBC, test_Survived_LRC, \n",
    "                              test_Survived_LDAC],\n",
    "                              axis = 1)\n",
    "\n",
    "\n",
    "g = sns.heatmap(ensemble_results.corr(), annot=True)"
   ]
  },
  {
   "cell_type": "markdown",
   "metadata": {},
   "source": [
    "prediction is quite similar"
   ]
  },
  {
   "cell_type": "markdown",
   "metadata": {},
   "source": [
    "## 6. Ensemble modeling"
   ]
  },
  {
   "cell_type": "markdown",
   "metadata": {},
   "source": [
    "### 6.1 Combining models"
   ]
  },
  {
   "cell_type": "code",
   "execution_count": 61,
   "metadata": {},
   "outputs": [],
   "source": [
    "votingC = VotingClassifier(estimators = [('SVC', SVMC_best), \n",
    "                                         ('RF', RFC_best),\n",
    "                                         ('GB', GBC_best), \n",
    "                                         ('LR', LRC_best), \n",
    "                                         ('LDA', LDAC_best)], \n",
    "                           voting = 'soft')\n",
    "\n",
    "votingC = votingC.fit(X_train, Y_train)"
   ]
  },
  {
   "cell_type": "markdown",
   "metadata": {},
   "source": [
    "### 6.2 Prediction"
   ]
  },
  {
   "cell_type": "code",
   "execution_count": 62,
   "metadata": {},
   "outputs": [
    {
     "name": "stderr",
     "output_type": "stream",
     "text": [
      "C:\\Users\\wlyip\\Anaconda3\\lib\\site-packages\\sklearn\\preprocessing\\label.py:151: DeprecationWarning: The truth value of an empty array is ambiguous. Returning False, but in future this will result in an error. Use `array.size > 0` to check that an array is not empty.\n",
      "  if diff:\n"
     ]
    }
   ],
   "source": [
    "test_Survived = pd.Series(votingC.predict(test), name = \"Survived\")\n",
    "\n",
    "results = pd.concat([passengerId[train_len:].reset_index(drop = True),\n",
    "                     test_Survived], axis = 1)\n",
    "\n",
    "results.to_csv(\"ensemble_python_voting.csv\", index = False)"
   ]
  },
  {
   "cell_type": "markdown",
   "metadata": {},
   "source": [
    "### Prediction by SVC (Model with highest Accuracy)"
   ]
  },
  {
   "cell_type": "code",
   "execution_count": 75,
   "metadata": {},
   "outputs": [],
   "source": [
    "SVC_result = pd.Series(SVMC_best.predict(test), name = \"Survived\")\n",
    "\n",
    "SVC_result = pd.concat([passengerId[train_len:].reset_index(drop = True),\n",
    "                     SVC_result], axis = 1)\n",
    "\n",
    "SVC_result.to_csv(\"SVC_result.csv\", index = False)"
   ]
  },
  {
   "cell_type": "markdown",
   "metadata": {},
   "source": [
    "## Neural Network"
   ]
  },
  {
   "cell_type": "code",
   "execution_count": 65,
   "metadata": {},
   "outputs": [
    {
     "data": {
      "text/plain": [
       "array([[1., 0.],\n",
       "       [0., 1.],\n",
       "       [0., 1.],\n",
       "       ...,\n",
       "       [1., 0.],\n",
       "       [0., 1.],\n",
       "       [1., 0.]])"
      ]
     },
     "execution_count": 65,
     "metadata": {},
     "output_type": "execute_result"
    }
   ],
   "source": [
    "# convert Y_train into one-hot vector\n",
    "Y_oh = np.eye(2)[Y_train]\n",
    "\n",
    "Y_oh"
   ]
  },
  {
   "cell_type": "code",
   "execution_count": 66,
   "metadata": {},
   "outputs": [
    {
     "name": "stderr",
     "output_type": "stream",
     "text": [
      "C:\\Users\\wlyip\\Anaconda3\\lib\\site-packages\\h5py\\__init__.py:36: FutureWarning: Conversion of the second argument of issubdtype from `float` to `np.floating` is deprecated. In future, it will be treated as `np.float64 == np.dtype(float).type`.\n",
      "  from ._conv import register_converters as _register_converters\n",
      "Using TensorFlow backend.\n"
     ]
    }
   ],
   "source": [
    "from keras.layers import Input, Dense, BatchNormalization, Dropout\n",
    "from keras.models import Model"
   ]
  },
  {
   "cell_type": "code",
   "execution_count": 67,
   "metadata": {},
   "outputs": [],
   "source": [
    "input_shape = X_train.shape[1]\n",
    "classes = Y_oh.shape[1]\n",
    "\n",
    "input_X = Input((input_shape, ))\n",
    "X = BatchNormalization()(input_X)\n",
    "X = Dense(16, activation = \"relu\")(X)\n",
    "X = Dropout(0.5)(X)\n",
    "X = Dense(16, activation = \"relu\")(X)\n",
    "X = Dropout(0.5)(X)\n",
    "X = Dense(16, activation = \"relu\")(X)\n",
    "X = Dense(classes, activation = \"sigmoid\")(X)\n",
    "\n",
    "model = Model(inputs = input_X, outputs = X)"
   ]
  },
  {
   "cell_type": "code",
   "execution_count": 68,
   "metadata": {},
   "outputs": [
    {
     "name": "stdout",
     "output_type": "stream",
     "text": [
      "_________________________________________________________________\n",
      "Layer (type)                 Output Shape              Param #   \n",
      "=================================================================\n",
      "input_1 (InputLayer)         (None, 7)                 0         \n",
      "_________________________________________________________________\n",
      "batch_normalization_1 (Batch (None, 7)                 28        \n",
      "_________________________________________________________________\n",
      "dense_1 (Dense)              (None, 16)                128       \n",
      "_________________________________________________________________\n",
      "dropout_1 (Dropout)          (None, 16)                0         \n",
      "_________________________________________________________________\n",
      "dense_2 (Dense)              (None, 16)                272       \n",
      "_________________________________________________________________\n",
      "dropout_2 (Dropout)          (None, 16)                0         \n",
      "_________________________________________________________________\n",
      "dense_3 (Dense)              (None, 16)                272       \n",
      "_________________________________________________________________\n",
      "dense_4 (Dense)              (None, 2)                 34        \n",
      "=================================================================\n",
      "Total params: 734\n",
      "Trainable params: 720\n",
      "Non-trainable params: 14\n",
      "_________________________________________________________________\n"
     ]
    }
   ],
   "source": [
    "model.summary()"
   ]
  },
  {
   "cell_type": "code",
   "execution_count": 69,
   "metadata": {},
   "outputs": [],
   "source": [
    "model.compile(loss = \"categorical_crossentropy\",\n",
    "              optimizer = \"adam\",\n",
    "              metrics = [\"accuracy\"])"
   ]
  },
  {
   "cell_type": "code",
   "execution_count": 70,
   "metadata": {},
   "outputs": [
    {
     "name": "stdout",
     "output_type": "stream",
     "text": [
      "Train on 712 samples, validate on 179 samples\n",
      "Epoch 1/100\n",
      "712/712 [==============================] - 4s 6ms/step - loss: 0.6805 - acc: 0.6110 - val_loss: 0.6393 - val_acc: 0.6704\n",
      "Epoch 2/100\n",
      "712/712 [==============================] - 0s 157us/step - loss: 0.6479 - acc: 0.6447 - val_loss: 0.6219 - val_acc: 0.6816\n",
      "Epoch 3/100\n",
      "712/712 [==============================] - 0s 158us/step - loss: 0.6442 - acc: 0.6390 - val_loss: 0.6029 - val_acc: 0.7039\n",
      "Epoch 4/100\n",
      "712/712 [==============================] - 0s 157us/step - loss: 0.6493 - acc: 0.6166 - val_loss: 0.5938 - val_acc: 0.7095\n",
      "Epoch 5/100\n",
      "712/712 [==============================] - 0s 162us/step - loss: 0.6145 - acc: 0.6545 - val_loss: 0.5730 - val_acc: 0.7486\n",
      "Epoch 6/100\n",
      "712/712 [==============================] - 0s 155us/step - loss: 0.6395 - acc: 0.6503 - val_loss: 0.5672 - val_acc: 0.7989\n",
      "Epoch 7/100\n",
      "712/712 [==============================] - 0s 160us/step - loss: 0.6152 - acc: 0.6489 - val_loss: 0.5591 - val_acc: 0.8101\n",
      "Epoch 8/100\n",
      "712/712 [==============================] - 0s 158us/step - loss: 0.6136 - acc: 0.6671 - val_loss: 0.5592 - val_acc: 0.8045\n",
      "Epoch 9/100\n",
      "712/712 [==============================] - 0s 155us/step - loss: 0.5860 - acc: 0.6657 - val_loss: 0.5392 - val_acc: 0.8101\n",
      "Epoch 10/100\n",
      "712/712 [==============================] - 0s 166us/step - loss: 0.5869 - acc: 0.6896 - val_loss: 0.5298 - val_acc: 0.8101\n",
      "Epoch 11/100\n",
      "712/712 [==============================] - 0s 161us/step - loss: 0.5946 - acc: 0.6882 - val_loss: 0.5194 - val_acc: 0.8156\n",
      "Epoch 12/100\n",
      "712/712 [==============================] - 0s 158us/step - loss: 0.5606 - acc: 0.7093 - val_loss: 0.5271 - val_acc: 0.8156\n",
      "Epoch 13/100\n",
      "712/712 [==============================] - 0s 162us/step - loss: 0.5735 - acc: 0.7121 - val_loss: 0.5153 - val_acc: 0.8101\n",
      "Epoch 14/100\n",
      "712/712 [==============================] - 0s 164us/step - loss: 0.5787 - acc: 0.6812 - val_loss: 0.5156 - val_acc: 0.8101\n",
      "Epoch 15/100\n",
      "712/712 [==============================] - 0s 164us/step - loss: 0.5765 - acc: 0.6896 - val_loss: 0.5203 - val_acc: 0.8045\n",
      "Epoch 16/100\n",
      "712/712 [==============================] - 0s 157us/step - loss: 0.5545 - acc: 0.7247 - val_loss: 0.5084 - val_acc: 0.8045\n",
      "Epoch 17/100\n",
      "712/712 [==============================] - 0s 161us/step - loss: 0.5410 - acc: 0.7093 - val_loss: 0.5002 - val_acc: 0.7989\n",
      "Epoch 18/100\n",
      "712/712 [==============================] - 0s 159us/step - loss: 0.5602 - acc: 0.7191 - val_loss: 0.4939 - val_acc: 0.7933\n",
      "Epoch 19/100\n",
      "712/712 [==============================] - 0s 156us/step - loss: 0.5572 - acc: 0.7542 - val_loss: 0.5003 - val_acc: 0.7989\n",
      "Epoch 20/100\n",
      "712/712 [==============================] - 0s 160us/step - loss: 0.5310 - acc: 0.7683 - val_loss: 0.5088 - val_acc: 0.7989\n",
      "Epoch 21/100\n",
      "712/712 [==============================] - 0s 157us/step - loss: 0.5582 - acc: 0.7430 - val_loss: 0.5047 - val_acc: 0.7933\n",
      "Epoch 22/100\n",
      "712/712 [==============================] - 0s 159us/step - loss: 0.5071 - acc: 0.7809 - val_loss: 0.4968 - val_acc: 0.7989\n",
      "Epoch 23/100\n",
      "712/712 [==============================] - 0s 159us/step - loss: 0.5485 - acc: 0.7528 - val_loss: 0.4980 - val_acc: 0.7989\n",
      "Epoch 24/100\n",
      "712/712 [==============================] - 0s 155us/step - loss: 0.5260 - acc: 0.7472 - val_loss: 0.4869 - val_acc: 0.7989\n",
      "Epoch 25/100\n",
      "712/712 [==============================] - 0s 161us/step - loss: 0.5337 - acc: 0.7612 - val_loss: 0.4845 - val_acc: 0.7989\n",
      "Epoch 26/100\n",
      "712/712 [==============================] - 0s 154us/step - loss: 0.5143 - acc: 0.7612 - val_loss: 0.4775 - val_acc: 0.8045\n",
      "Epoch 27/100\n",
      "712/712 [==============================] - 0s 160us/step - loss: 0.5476 - acc: 0.7584 - val_loss: 0.4820 - val_acc: 0.8045\n",
      "Epoch 28/100\n",
      "712/712 [==============================] - 0s 154us/step - loss: 0.5328 - acc: 0.7626 - val_loss: 0.4942 - val_acc: 0.7989\n",
      "Epoch 29/100\n",
      "712/712 [==============================] - 0s 157us/step - loss: 0.5139 - acc: 0.7837 - val_loss: 0.4800 - val_acc: 0.8045\n",
      "Epoch 30/100\n",
      "712/712 [==============================] - 0s 160us/step - loss: 0.5011 - acc: 0.7907 - val_loss: 0.4717 - val_acc: 0.8101\n",
      "Epoch 31/100\n",
      "712/712 [==============================] - 0s 155us/step - loss: 0.5247 - acc: 0.7542 - val_loss: 0.4664 - val_acc: 0.8156\n",
      "Epoch 32/100\n",
      "712/712 [==============================] - 0s 157us/step - loss: 0.5213 - acc: 0.7781 - val_loss: 0.4716 - val_acc: 0.8156\n",
      "Epoch 33/100\n",
      "712/712 [==============================] - 0s 158us/step - loss: 0.4911 - acc: 0.7767 - val_loss: 0.4634 - val_acc: 0.8101\n",
      "Epoch 34/100\n",
      "712/712 [==============================] - 0s 160us/step - loss: 0.5213 - acc: 0.7767 - val_loss: 0.4694 - val_acc: 0.8156\n",
      "Epoch 35/100\n",
      "712/712 [==============================] - 0s 158us/step - loss: 0.5112 - acc: 0.7907 - val_loss: 0.4685 - val_acc: 0.8156\n",
      "Epoch 36/100\n",
      "712/712 [==============================] - 0s 161us/step - loss: 0.5025 - acc: 0.7669 - val_loss: 0.4610 - val_acc: 0.8156\n",
      "Epoch 37/100\n",
      "712/712 [==============================] - 0s 151us/step - loss: 0.5069 - acc: 0.7851 - val_loss: 0.4677 - val_acc: 0.8156\n",
      "Epoch 38/100\n",
      "712/712 [==============================] - 0s 154us/step - loss: 0.5071 - acc: 0.7851 - val_loss: 0.4599 - val_acc: 0.8268\n",
      "Epoch 39/100\n",
      "712/712 [==============================] - 0s 153us/step - loss: 0.5206 - acc: 0.7683 - val_loss: 0.4610 - val_acc: 0.8268\n",
      "Epoch 40/100\n",
      "712/712 [==============================] - 0s 153us/step - loss: 0.5168 - acc: 0.7711 - val_loss: 0.4652 - val_acc: 0.8268\n",
      "Epoch 41/100\n",
      "712/712 [==============================] - 0s 155us/step - loss: 0.5051 - acc: 0.7949 - val_loss: 0.4685 - val_acc: 0.8324\n",
      "Epoch 42/100\n",
      "712/712 [==============================] - 0s 155us/step - loss: 0.5133 - acc: 0.7879 - val_loss: 0.4675 - val_acc: 0.8324\n",
      "Epoch 43/100\n",
      "712/712 [==============================] - 0s 157us/step - loss: 0.4962 - acc: 0.7781 - val_loss: 0.4610 - val_acc: 0.8324\n",
      "Epoch 44/100\n",
      "712/712 [==============================] - 0s 160us/step - loss: 0.4956 - acc: 0.7907 - val_loss: 0.4684 - val_acc: 0.8324\n",
      "Epoch 45/100\n",
      "712/712 [==============================] - 0s 147us/step - loss: 0.4879 - acc: 0.7963 - val_loss: 0.4531 - val_acc: 0.8324\n",
      "Epoch 46/100\n",
      "712/712 [==============================] - 0s 152us/step - loss: 0.5065 - acc: 0.7851 - val_loss: 0.4521 - val_acc: 0.8324\n",
      "Epoch 47/100\n",
      "712/712 [==============================] - 0s 154us/step - loss: 0.4854 - acc: 0.7823 - val_loss: 0.4540 - val_acc: 0.8324\n",
      "Epoch 48/100\n",
      "712/712 [==============================] - 0s 154us/step - loss: 0.4969 - acc: 0.7963 - val_loss: 0.4532 - val_acc: 0.8380\n",
      "Epoch 49/100\n",
      "712/712 [==============================] - 0s 156us/step - loss: 0.5091 - acc: 0.7837 - val_loss: 0.4508 - val_acc: 0.8380\n",
      "Epoch 50/100\n",
      "712/712 [==============================] - 0s 151us/step - loss: 0.4928 - acc: 0.7809 - val_loss: 0.4448 - val_acc: 0.8380\n",
      "Epoch 51/100\n",
      "712/712 [==============================] - 0s 158us/step - loss: 0.4808 - acc: 0.7992 - val_loss: 0.4452 - val_acc: 0.8436\n",
      "Epoch 52/100\n",
      "712/712 [==============================] - 0s 154us/step - loss: 0.4701 - acc: 0.7907 - val_loss: 0.4378 - val_acc: 0.8436\n",
      "Epoch 53/100\n",
      "712/712 [==============================] - 0s 161us/step - loss: 0.4938 - acc: 0.7935 - val_loss: 0.4534 - val_acc: 0.8380\n",
      "Epoch 54/100\n",
      "712/712 [==============================] - 0s 158us/step - loss: 0.5001 - acc: 0.7809 - val_loss: 0.4496 - val_acc: 0.8380\n",
      "Epoch 55/100\n",
      "712/712 [==============================] - 0s 153us/step - loss: 0.4828 - acc: 0.7921 - val_loss: 0.4557 - val_acc: 0.8380\n",
      "Epoch 56/100\n",
      "712/712 [==============================] - 0s 161us/step - loss: 0.4835 - acc: 0.7963 - val_loss: 0.4502 - val_acc: 0.8380\n",
      "Epoch 57/100\n",
      "712/712 [==============================] - 0s 158us/step - loss: 0.4829 - acc: 0.7823 - val_loss: 0.4480 - val_acc: 0.8380\n",
      "Epoch 58/100\n",
      "712/712 [==============================] - 0s 160us/step - loss: 0.4664 - acc: 0.8020 - val_loss: 0.4442 - val_acc: 0.8380\n",
      "Epoch 59/100\n",
      "712/712 [==============================] - 0s 159us/step - loss: 0.4778 - acc: 0.7992 - val_loss: 0.4416 - val_acc: 0.8436\n",
      "Epoch 60/100\n",
      "712/712 [==============================] - 0s 153us/step - loss: 0.4873 - acc: 0.7949 - val_loss: 0.4386 - val_acc: 0.8436\n"
     ]
    },
    {
     "name": "stdout",
     "output_type": "stream",
     "text": [
      "Epoch 61/100\n",
      "712/712 [==============================] - 0s 155us/step - loss: 0.4813 - acc: 0.7992 - val_loss: 0.4466 - val_acc: 0.8436\n",
      "Epoch 62/100\n",
      "712/712 [==============================] - 0s 151us/step - loss: 0.4955 - acc: 0.7725 - val_loss: 0.4524 - val_acc: 0.8436\n",
      "Epoch 63/100\n",
      "712/712 [==============================] - 0s 153us/step - loss: 0.4912 - acc: 0.7893 - val_loss: 0.4488 - val_acc: 0.8436\n",
      "Epoch 64/100\n",
      "712/712 [==============================] - 0s 155us/step - loss: 0.4796 - acc: 0.7963 - val_loss: 0.4524 - val_acc: 0.8380\n",
      "Epoch 65/100\n",
      "712/712 [==============================] - 0s 157us/step - loss: 0.5018 - acc: 0.7865 - val_loss: 0.4578 - val_acc: 0.8380\n",
      "Epoch 66/100\n",
      "712/712 [==============================] - 0s 157us/step - loss: 0.4942 - acc: 0.7739 - val_loss: 0.4526 - val_acc: 0.8380\n",
      "Epoch 67/100\n",
      "712/712 [==============================] - 0s 160us/step - loss: 0.4871 - acc: 0.8062 - val_loss: 0.4547 - val_acc: 0.8380\n",
      "Epoch 68/100\n",
      "712/712 [==============================] - 0s 158us/step - loss: 0.4834 - acc: 0.7992 - val_loss: 0.4552 - val_acc: 0.8436\n",
      "Epoch 69/100\n",
      "712/712 [==============================] - 0s 158us/step - loss: 0.4698 - acc: 0.7978 - val_loss: 0.4452 - val_acc: 0.8436\n",
      "Epoch 70/100\n",
      "712/712 [==============================] - 0s 155us/step - loss: 0.4881 - acc: 0.7949 - val_loss: 0.4414 - val_acc: 0.8436\n",
      "Epoch 71/100\n",
      "712/712 [==============================] - 0s 151us/step - loss: 0.4591 - acc: 0.8034 - val_loss: 0.4299 - val_acc: 0.8436\n",
      "Epoch 72/100\n",
      "712/712 [==============================] - 0s 157us/step - loss: 0.4901 - acc: 0.7935 - val_loss: 0.4297 - val_acc: 0.8436\n",
      "Epoch 73/100\n",
      "712/712 [==============================] - 0s 155us/step - loss: 0.4885 - acc: 0.7879 - val_loss: 0.4409 - val_acc: 0.8380\n",
      "Epoch 74/100\n",
      "712/712 [==============================] - 0s 151us/step - loss: 0.4606 - acc: 0.8048 - val_loss: 0.4298 - val_acc: 0.8380\n",
      "Epoch 75/100\n",
      "712/712 [==============================] - 0s 158us/step - loss: 0.4620 - acc: 0.8020 - val_loss: 0.4304 - val_acc: 0.8436\n",
      "Epoch 76/100\n",
      "712/712 [==============================] - 0s 151us/step - loss: 0.4737 - acc: 0.7935 - val_loss: 0.4312 - val_acc: 0.8380\n",
      "Epoch 77/100\n",
      "712/712 [==============================] - 0s 150us/step - loss: 0.4715 - acc: 0.7949 - val_loss: 0.4355 - val_acc: 0.8436\n",
      "Epoch 78/100\n",
      "712/712 [==============================] - 0s 154us/step - loss: 0.4786 - acc: 0.8020 - val_loss: 0.4366 - val_acc: 0.8436\n",
      "Epoch 79/100\n",
      "712/712 [==============================] - 0s 151us/step - loss: 0.4771 - acc: 0.8062 - val_loss: 0.4381 - val_acc: 0.8436\n",
      "Epoch 80/100\n",
      "712/712 [==============================] - 0s 154us/step - loss: 0.4674 - acc: 0.8062 - val_loss: 0.4392 - val_acc: 0.8436\n",
      "Epoch 81/100\n",
      "712/712 [==============================] - 0s 151us/step - loss: 0.5106 - acc: 0.7837 - val_loss: 0.4370 - val_acc: 0.8436\n",
      "Epoch 82/100\n",
      "712/712 [==============================] - 0s 151us/step - loss: 0.4665 - acc: 0.7978 - val_loss: 0.4417 - val_acc: 0.8380\n",
      "Epoch 83/100\n",
      "712/712 [==============================] - 0s 158us/step - loss: 0.4834 - acc: 0.7907 - val_loss: 0.4458 - val_acc: 0.8380\n",
      "Epoch 84/100\n",
      "712/712 [==============================] - 0s 157us/step - loss: 0.4806 - acc: 0.8034 - val_loss: 0.4435 - val_acc: 0.8380\n",
      "Epoch 85/100\n",
      "712/712 [==============================] - 0s 158us/step - loss: 0.4818 - acc: 0.8048 - val_loss: 0.4499 - val_acc: 0.8380\n",
      "Epoch 86/100\n",
      "712/712 [==============================] - 0s 158us/step - loss: 0.4616 - acc: 0.7949 - val_loss: 0.4421 - val_acc: 0.8380\n",
      "Epoch 87/100\n",
      "712/712 [==============================] - 0s 159us/step - loss: 0.4724 - acc: 0.7949 - val_loss: 0.4316 - val_acc: 0.8380\n",
      "Epoch 88/100\n",
      "712/712 [==============================] - 0s 158us/step - loss: 0.4590 - acc: 0.7963 - val_loss: 0.4257 - val_acc: 0.8380\n",
      "Epoch 89/100\n",
      "712/712 [==============================] - 0s 153us/step - loss: 0.4581 - acc: 0.8118 - val_loss: 0.4245 - val_acc: 0.8380\n",
      "Epoch 90/100\n",
      "712/712 [==============================] - 0s 157us/step - loss: 0.4771 - acc: 0.7963 - val_loss: 0.4249 - val_acc: 0.8380\n",
      "Epoch 91/100\n",
      "712/712 [==============================] - 0s 161us/step - loss: 0.4777 - acc: 0.8034 - val_loss: 0.4242 - val_acc: 0.8436\n",
      "Epoch 92/100\n",
      "712/712 [==============================] - 0s 155us/step - loss: 0.4721 - acc: 0.7978 - val_loss: 0.4291 - val_acc: 0.8436\n",
      "Epoch 93/100\n",
      "712/712 [==============================] - 0s 161us/step - loss: 0.4756 - acc: 0.7935 - val_loss: 0.4326 - val_acc: 0.8436\n",
      "Epoch 94/100\n",
      "712/712 [==============================] - 0s 154us/step - loss: 0.4598 - acc: 0.8034 - val_loss: 0.4324 - val_acc: 0.8436\n",
      "Epoch 95/100\n",
      "712/712 [==============================] - 0s 155us/step - loss: 0.4670 - acc: 0.7907 - val_loss: 0.4224 - val_acc: 0.8436\n",
      "Epoch 96/100\n",
      "712/712 [==============================] - 0s 153us/step - loss: 0.4430 - acc: 0.8174 - val_loss: 0.4218 - val_acc: 0.8436\n",
      "Epoch 97/100\n",
      "712/712 [==============================] - 0s 153us/step - loss: 0.4710 - acc: 0.7992 - val_loss: 0.4191 - val_acc: 0.8436\n",
      "Epoch 98/100\n",
      "712/712 [==============================] - 0s 153us/step - loss: 0.4595 - acc: 0.8118 - val_loss: 0.4185 - val_acc: 0.8436\n",
      "Epoch 99/100\n",
      "712/712 [==============================] - 0s 157us/step - loss: 0.4690 - acc: 0.8048 - val_loss: 0.4223 - val_acc: 0.8436\n",
      "Epoch 100/100\n",
      "712/712 [==============================] - 0s 154us/step - loss: 0.4766 - acc: 0.7963 - val_loss: 0.4247 - val_acc: 0.8436\n"
     ]
    }
   ],
   "source": [
    "train_history = model.fit(x = X_train, y = Y_oh, validation_split = 0.2, \n",
    "                          epochs = 100)"
   ]
  },
  {
   "cell_type": "code",
   "execution_count": 71,
   "metadata": {},
   "outputs": [
    {
     "data": {
      "text/plain": [
       "Text(0.5,0,'epoch')"
      ]
     },
     "execution_count": 71,
     "metadata": {},
     "output_type": "execute_result"
    },
    {
     "data": {
      "image/png": "[encoded data removed]",
      "text/plain": [
       "<Figure size 432x288 with 2 Axes>"
      ]
     },
     "metadata": {},
     "output_type": "display_data"
    }
   ],
   "source": [
    "plt.subplot(1, 2, 1)\n",
    "plt.plot(train_history.history[\"acc\"])\n",
    "plt.plot(train_history.history[\"val_acc\"])\n",
    "plt.title(\"Accuracy\")\n",
    "plt.xlabel(\"epoch\")\n",
    "\n",
    "plt.subplot(1, 2, 2)\n",
    "plt.plot(train_history.history[\"loss\"])\n",
    "plt.plot(train_history.history[\"val_loss\"])\n",
    "plt.title(\"Loss\")\n",
    "plt.xlabel(\"epoch\")"
   ]
  },
  {
   "cell_type": "code",
   "execution_count": 74,
   "metadata": {},
   "outputs": [],
   "source": [
    "pred = model.predict(test)\n",
    "pred = pd.Series(np.argmax(pred, axis = 1), name = \"Survived\")\n",
    "\n",
    "nn_result = pd.concat([passengerId[train_len:].reset_index(drop = True),\n",
    "                      pred], axis = 1)\n",
    "\n",
    "nn_result.to_csv(\"nn_result.csv\", index = False)"
   ]
  },
  {
   "cell_type": "code",
   "execution_count": null,
   "metadata": {},
   "outputs": [],
   "source": []
  }
 ],
 "metadata": {
  "kernelspec": {
   "display_name": "Python 3",
   "language": "python",
   "name": "python3"
  },
  "language_info": {
   "codemirror_mode": {
    "name": "ipython",
    "version": 3
   },
   "file_extension": ".py",
   "mimetype": "text/x-python",
   "name": "python",
   "nbconvert_exporter": "python",
   "pygments_lexer": "ipython3",
   "version": "3.6.5"
  }
 },
 "nbformat": 4,
 "nbformat_minor": 2
}
